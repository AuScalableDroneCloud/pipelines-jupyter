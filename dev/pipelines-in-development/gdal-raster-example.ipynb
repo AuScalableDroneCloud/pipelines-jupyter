{
 "cells": [
  {
   "cell_type": "markdown",
   "id": "5662215e-81af-4276-bc7b-019a4b69a948",
   "metadata": {
    "tags": []
   },
   "source": [
    "Notebook for testing if gdal installaiton works\n",
    "Code modified from here: https://notebook.community/Automating-GIS-processes/Lesson-7-Automating-Raster-Data-Processing/Python-and-Gdal"
   ]
  },
  {
   "cell_type": "code",
   "execution_count": null,
   "id": "596eb7cd-f008-4a9d-9184-a1bfc659dec5",
   "metadata": {},
   "outputs": [],
   "source": []
  },
  {
   "cell_type": "code",
   "execution_count": null,
   "id": "ec6ad853-e270-4685-afaa-05b5f0ddc7bb",
   "metadata": {
    "tags": []
   },
   "outputs": [],
   "source": [
    "!pip install matplotlib\n",
    "!pip install seaborn\n",
    "!pip install rioxarray\n",
    "!pip install earthpy\n",
    "!pip install simplekml \n",
    "!pip install gdal"
   ]
  },
  {
   "cell_type": "code",
   "execution_count": 12,
   "id": "81e5897d-0d94-4e89-8a66-7e28d991fbc1",
   "metadata": {
    "tags": []
   },
   "outputs": [
    {
     "name": "stdout",
     "output_type": "stream",
     "text": [
      "/home/jovyan/tim.brown@anu.edu.au/test-gdal\n"
     ]
    }
   ],
   "source": [
    "import os\n",
    "import asdc\n",
    "import numpy as np\n",
    "import matplotlib.pyplot as plt\n",
    "import seaborn as sns\n",
    "import rioxarray as rxr\n",
    "import earthpy as et\n",
    "from osgeo import gdal\n",
    "\n",
    "# Prettier plotting with seaborn\n",
    "sns.set(font_scale=1.5, style=\"whitegrid\")\n",
    "!pwd"
   ]
  },
  {
   "cell_type": "markdown",
   "id": "0e894ce3-ac97-4f17-b8ef-9887e2d56efc",
   "metadata": {},
   "source": [
    "Select the task you want to access the raster from"
   ]
  },
  {
   "cell_type": "code",
   "execution_count": 88,
   "id": "d17047a5-3231-4db0-97c4-466a236e570c",
   "metadata": {
    "tags": []
   },
   "outputs": [
    {
     "name": "stdout",
     "output_type": "stream",
     "text": [
      "Select the task to download the DSM and DTM from. Make sure the Task you have selected actually has both a DSM and a DTM file\n"
     ]
    },
    {
     "data": {
      "application/vnd.jupyter.widget-view+json": {
       "model_id": "2b4adbb2104243a9be1b31a3687c059b",
       "version_major": 2,
       "version_minor": 0
      },
      "text/plain": [
       "interactive(children=(Dropdown(description='project', index=4, options=(('8: Testing dev platform', 8), ('11: …"
      ]
     },
     "metadata": {},
     "output_type": "display_data"
    },
    {
     "data": {
      "application/vnd.jupyter.widget-view+json": {
       "model_id": "965704432e3842bcaa3502a86a632e62",
       "version_major": 2,
       "version_minor": 0
      },
      "text/plain": [
       "interactive(children=(Dropdown(description='task', options=(('Chain Of Lagoons - 30/03/2018 - Resized 2048', '…"
      ]
     },
     "metadata": {},
     "output_type": "display_data"
    },
    {
     "data": {
      "application/vnd.jupyter.widget-view+json": {
       "model_id": "5045f48385384959bf348603325a2c85",
       "version_major": 2,
       "version_minor": 0
      },
      "text/plain": [
       "Button(description='Run all below', icon='play', style=ButtonStyle())"
      ]
     },
     "metadata": {},
     "output_type": "display_data"
    }
   ],
   "source": [
    "print(\"Select the task to download the DSM and DTM from. Make sure the Task you have selected actually has both a DSM and a DTM file\")\n",
    "asdc.task_select()\n",
    "from ipywidgets import widgets"
   ]
  },
  {
   "cell_type": "code",
   "execution_count": 89,
   "id": "eff03466-f904-4952-8b0b-64b6a3844400",
   "metadata": {
    "tags": []
   },
   "outputs": [
    {
     "name": "stdout",
     "output_type": "stream",
     "text": [
      "Task name =  Chain Of Lagoons - 30/03/2018\n"
     ]
    }
   ],
   "source": [
    "project_id, task_id = asdc.get_selection()\n",
    "task_name = asdc.task_dict[task_id]['name']\n",
    "\n",
    "print(\"Task name = \", task_name)"
   ]
  },
  {
   "cell_type": "code",
   "execution_count": 90,
   "id": "d8590892-a8b9-4805-950c-6aa964efdcc6",
   "metadata": {
    "tags": []
   },
   "outputs": [
    {
     "name": "stdout",
     "output_type": "stream",
     "text": [
      "Chain of Lagoons\n"
     ]
    },
    {
     "data": {
      "text/plain": [
       "'2af50c4e-4418-4f34-8535-3518c7f39154'"
      ]
     },
     "execution_count": 90,
     "metadata": {},
     "output_type": "execute_result"
    }
   ],
   "source": [
    "project_name = asdc.project_dict[f\"{project_id}\"]['name']\n",
    "\n",
    "print(project_name)\n",
    "task_id"
   ]
  },
  {
   "cell_type": "code",
   "execution_count": 94,
   "id": "6fffcc01-321a-41b1-8e2b-bd230c5fb503",
   "metadata": {
    "tags": []
   },
   "outputs": [
    {
     "data": {
      "application/vnd.jupyter.widget-view+json": {
       "model_id": "",
       "version_major": 2,
       "version_minor": 0
      },
      "text/plain": [
       "  0%|          | 0.00/230M [00:00<?, ?iB/s]"
      ]
     },
     "metadata": {},
     "output_type": "display_data"
    },
    {
     "name": "stdout",
     "output_type": "stream",
     "text": [
      "25\n",
      "2af50c4e-4418-4f34-8535-3518c7f39154\n"
     ]
    }
   ],
   "source": [
    "asdc.download_asset(f\"odm_orthophoto/odm_orthophoto.tif\", \"orthoph.tif\")\n",
    "#DTM_path = f\"https://asdc.cloud.edu.au/api/projects/{project_id}/tasks/{task_id}/download/dtm.tif\"\n",
    "print(project_id)\n",
    "print(task_id)"
   ]
  },
  {
   "cell_type": "code",
   "execution_count": 69,
   "id": "0ae49566-0307-4a51-8252-879673245cdb",
   "metadata": {
    "tags": []
   },
   "outputs": [
    {
     "name": "stdout",
     "output_type": "stream",
     "text": [
      "Project name: USLN\n",
      "Task Name: BVZ-USLN-COOLAMA-2022-02-11-P4M-TB-RGB\n",
      "\n",
      "\n",
      "Files in Task:\n",
      "  * assets/odm_orthophoto/odm_orthophoto.tif\n"
     ]
    }
   ],
   "source": [
    "# List available TIF files in the selected project\n",
    "# For files that have multiple copies (eg jpg or laz), provide the file count:\n",
    "\n",
    "\n",
    "asdc_root_url = 'https://dev.asdc.cloud.edu.au/api/projects/' # Remove .dev if on production\n",
    "\n",
    "u = asdc.call_api(f\"{asdc_root_url}{project_id}/tasks/{task_id}/assets/files.json\").json()\n",
    "filename = \"\"\n",
    "print(f\"Project name: {project_name}\")\n",
    "print(f\"Task Name: {task_name}\\n\\n\")\n",
    "print(\"Files in Task:\")\n",
    "\n",
    "\n",
    "from collections import Counter\n",
    "import os\n",
    "\n",
    "# List of file extensions to filter by\n",
    "filter_extensions = ['.tif']\n",
    "\n",
    "# Get file extensions and count them\n",
    "file_extensions = [os.path.splitext(file)[1] for file in u['files'] if os.path.splitext(file)[1] in filter_extensions]\n",
    "file_counts = Counter(file_extensions)\n",
    "\n",
    "# Separate file types with multiple files and those with a single file\n",
    "single_files = []\n",
    "multiple_files = []\n",
    "\n",
    "for ext, count in file_counts.items():\n",
    "    # Remove the leading dot from the extension\n",
    "    ext = ext[1:]\n",
    "    if count > 1:\n",
    "        multiple_files.append((ext, count))\n",
    "    else:\n",
    "        # Find the full filename for this extension\n",
    "        for file in u['files']:\n",
    "            if file.endswith('.' + ext):\n",
    "                single_files.append(file)\n",
    "                break\n",
    "\n",
    "# Print single files first\n",
    "for file in single_files:\n",
    "    print(f\"  * {file}\")\n",
    "\n",
    "# Then print file types with multiple files\n",
    "for ext, count in multiple_files:\n",
    "    print(f\"  * {ext.upper()} ({count})\")\n",
    "\n"
   ]
  },
  {
   "cell_type": "markdown",
   "id": "c8526e52-63aa-4f64-906b-8412aa730de1",
   "metadata": {},
   "source": [
    "Now download the TIF you want to process. "
   ]
  },
  {
   "cell_type": "code",
   "execution_count": 71,
   "id": "25f6d191-13df-41c5-a176-6da376e50392",
   "metadata": {
    "tags": []
   },
   "outputs": [
    {
     "name": "stdout",
     "output_type": "stream",
     "text": [
      "Temporary files will be stored in the folder: \n",
      "\t./TEMP-BVZ-USLN-COOLAMA-2022-02-11-P4M-TB-RGB\n",
      "\n",
      "New files with have the base file name: \n",
      "\tBVZ-USLN-COOLAMA-2022-02-11-P4M-TB-RGB\n",
      "-----------------------------\n"
     ]
    }
   ],
   "source": [
    "base_name_for_outputs =  task_name.split(\" |\")[0]\n",
    "temp_folder_name = \"TEMP-\" + base_name_for_outputs\n",
    "\n",
    "task_data_folder_path = os.path.join(\".\", temp_folder_name)  # The '.' represents the current directory\n",
    "\n",
    "print(\"Temporary files will be stored in the folder: \\n\\t\" + task_data_folder_path)\n",
    "print(\"\\nNew files with have the base file name: \\n\\t\" + base_name_for_outputs + \"\\n-----------------------------\")\n",
    "\n",
    "if not os.path.exists(task_data_folder_path):\n",
    "    os.makedirs(task_data_folder_path)"
   ]
  },
  {
   "cell_type": "code",
   "execution_count": 108,
   "id": "55d00d14-7705-4b67-b7ea-f0af46246878",
   "metadata": {
    "tags": []
   },
   "outputs": [
    {
     "name": "stdout",
     "output_type": "stream",
     "text": [
      "Now downloading available raster files. You will see a <404> error for any files that are not in the project\n"
     ]
    },
    {
     "data": {
      "text/plain": [
       "'ortho.tif'"
      ]
     },
     "execution_count": 108,
     "metadata": {},
     "output_type": "execute_result"
    }
   ],
   "source": [
    "# Use this code to download via URL rather than with the ASDC API\n",
    "#  or if you want to have the DSM/DTM files have the task name\n",
    "#   DSM_path = f\"https://asdc.cloud.edu.au/api/projects/{project_id}/tasks/{task_id}/download/dsm.tif\"\n",
    "#DTM_path = f\"https://asdc.cloud.edu.au/api/projects/{project_id}/tasks/{task_id}/download/dtm.tif\"\n",
    "\n",
    "# Note that the \"download_assets\" api call takes the filename (on ODM) as the first variable and the \"path/filename\" for it to be downloaded to as the second variable\n",
    "# Also note that unlike the DSM and DTM's, the orthophoto is in a sub-folder\n",
    "\n",
    "\n",
    "#NOTE: In ODM, the DEM is called a DTM\n",
    "\n",
    "## 2023-12-07- This code was copied from the tree segmentation code... currently is broken but should be adapted to let the user download all tifs as needed\n",
    "#print(\"Downloading DSM and DTM files to: \", task_data_folder_path)\n",
    "# dtm_filename = 'dtm.tif'\n",
    "# dsm_filename = 'dsm.tif'\n",
    "# ortho_filename = 'odm_orthophoto/odm_orthophoto.tif'\n",
    "\n",
    "# #This is the path to where the downlaoded file will be saved in Jupyter\n",
    "# dtm_path = task_data_folder_path + \"/\" + dtm_filename\n",
    "# dsm_path = task_data_folder_path + \"/\" + dsm_filename\n",
    "# ortho_path = task_data_folder_path + ortho_filename\n",
    "# print(ortho_filename)\n",
    "\n",
    "# asdc.download_asset(dsm_filename, dsm_path)\n",
    "# asdc.download_asset(dtm_filename, dtm_path)\n",
    "\n",
    "downloaded_tif_name = \"ortho.tif\"\n",
    "print('Now downloading available raster files. You will see a <404> error for any files that are not in the project')\n",
    "asdc.download_asset(f\"odm_orthophoto/odm_orthophoto.tif\", downloaded_tif_name)\n",
    "\n"
   ]
  },
  {
   "cell_type": "code",
   "execution_count": 109,
   "id": "3c00006c-9d74-4733-9f23-c04cb6621537",
   "metadata": {
    "tags": []
   },
   "outputs": [
    {
     "data": {
      "text/plain": [
       "osgeo.gdal.Dataset"
      ]
     },
     "execution_count": 109,
     "metadata": {},
     "output_type": "execute_result"
    }
   ],
   "source": [
    "# For now this is hardcoded for the \"odm_orthophoto.tif\"\n",
    "# Code should be updated to let the user chose which orthophotos they want\n",
    "\n",
    "\n",
    "\n",
    "# Open the file:\n",
    "raster = gdal.Open(downloaded_tif_name)\n",
    "\n",
    "# Check type of the variable 'raster'\n",
    "type(raster)"
   ]
  },
  {
   "cell_type": "code",
   "execution_count": 110,
   "id": "be45e448-dc6b-4b76-8472-2f70f266041a",
   "metadata": {
    "tags": []
   },
   "outputs": [
    {
     "data": {
      "text/plain": [
       "{'AREA_OR_POINT': 'Area'}"
      ]
     },
     "execution_count": 110,
     "metadata": {},
     "output_type": "execute_result"
    }
   ],
   "source": [
    "# Projection\n",
    "raster.GetProjection()\n",
    "\n",
    "# Dimensions\n",
    "raster.RasterXSize\n",
    "raster.RasterYSize\n",
    "\n",
    "# Number of bands\n",
    "raster.RasterCount\n",
    "\n",
    "# Metadata for the raster dataset\n",
    "raster.GetMetadata()"
   ]
  },
  {
   "cell_type": "code",
   "execution_count": 111,
   "id": "3394859b-fba3-4173-ba21-1120678b7668",
   "metadata": {
    "tags": []
   },
   "outputs": [
    {
     "data": {
      "text/plain": [
       "'Byte'"
      ]
     },
     "execution_count": 111,
     "metadata": {},
     "output_type": "execute_result"
    }
   ],
   "source": [
    "# Read the raster band as separate variable\n",
    "band = raster.GetRasterBand(1)\n",
    "\n",
    "# Check type of the variable 'band'\n",
    "type(band)\n",
    "\n",
    "# Data type of the values\n",
    "gdal.GetDataTypeName(band.DataType)"
   ]
  },
  {
   "cell_type": "code",
   "execution_count": 112,
   "id": "6fa67288-27e9-4633-b5ea-f5ccb0dbb6c0",
   "metadata": {
    "tags": []
   },
   "outputs": [
    {
     "name": "stdout",
     "output_type": "stream",
     "text": [
      "Statistics computed.\n",
      "[ NO DATA VALUE ] =  None\n",
      "[ MIN ] =  0.0\n",
      "[ MAX ] =  255.0\n"
     ]
    }
   ],
   "source": [
    "# Compute statistics if needed\n",
    "if band.GetMinimum() is None or band.GetMaximum()is None:\n",
    "    band.ComputeStatistics(0)\n",
    "    print(\"Statistics computed.\")\n",
    "    \n",
    "# Fetch metadata for the band\n",
    "band.GetMetadata()\n",
    "    \n",
    "# Print only selected metadata:\n",
    "print (\"[ NO DATA VALUE ] = \", band.GetNoDataValue()) # none\n",
    "print (\"[ MIN ] = \", band.GetMinimum())\n",
    "print (\"[ MAX ] = \", band.GetMaximum())"
   ]
  }
 ],
 "metadata": {
  "kernelspec": {
   "display_name": "Python 3 (ipykernel)",
   "language": "python",
   "name": "python3"
  },
  "language_info": {
   "codemirror_mode": {
    "name": "ipython",
    "version": 3
   },
   "file_extension": ".py",
   "mimetype": "text/x-python",
   "name": "python",
   "nbconvert_exporter": "python",
   "pygments_lexer": "ipython3",
   "version": "3.11.6"
  }
 },
 "nbformat": 4,
 "nbformat_minor": 5
}
