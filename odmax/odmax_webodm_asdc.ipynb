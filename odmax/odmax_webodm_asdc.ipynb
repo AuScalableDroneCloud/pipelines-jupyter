{
 "cells": [
  {
   "cell_type": "markdown",
   "id": "90522e8b",
   "metadata": {},
   "source": [
    "# 3D point clouds and meshes from 360 degree videos with ODMax\n",
    "ODMax has the capability to collect a large set of sample photos for photogrammetry. Combined with the extremely powerful OpenDroneMap software, a streamlined pipeline of 360-degree videos into photogrammetry products can be established. Luckily, the WebODM software offers a web platform to OpenDroneMap with an API that can be approached from python. To use this example, you need to have a running WebODM server (can be a local one on your current device via `docker`.\n",
    "Also you need to provide an .env file, in the notebook folder, or manually add your server details to your system environment variables. Here you can supply the server details and your login credentials. Below we will of course first check if your credentials are indeed picked up.\n",
    "\n",
    "We will use a number of `odmax` API functionalities. For explanation on the API, we refer to https://odmax.readthedocs.io/en/latest/api/index.html"
   ]
  },
  {
   "cell_type": "markdown",
   "id": "29c638e3",
   "metadata": {},
   "source": [
    "First, to ease the interaction with the WebODM API, let's install the `odk2odm` library from `localdevices`. This library offers odk and odm requests in pythonic form, so that you don't need to know anything about web requests to interact with your WebODM server. (PRE-INSTALLED ON ASDC CLOUD)"
   ]
  },
  {
   "cell_type": "markdown",
   "id": "e8bdcba4",
   "metadata": {},
   "source": [
    "We also need a larger video than the one supplied in our `examples` folder to have sufficient sampling of depth, and have relevant data for photogrammetry. We will download one below."
   ]
  },
  {
   "cell_type": "code",
   "execution_count": null,
   "id": "08ff2a1d",
   "metadata": {},
   "outputs": [],
   "source": [
    "!wget -nc https://object-store.rc.nectar.org.au/v1/AUTH_9f7c80bfd20f45bebc780b06c405f0df/asdc-public/GOPR0011_1599383304667.mp4"
   ]
  },
  {
   "cell_type": "markdown",
   "id": "125d141f-5be2-45d2-b875-bb2b79b5880e",
   "metadata": {},
   "source": [
    "## Connect to ASDC WebODM"
   ]
  },
  {
   "cell_type": "code",
   "execution_count": null,
   "id": "4074adb0-ac4b-4fcb-8124-ab32a03f48fe",
   "metadata": {},
   "outputs": [],
   "source": [
    "import asdc\n",
    "await asdc.auth.connect()\n",
    "token = asdc.auth.access_token\n",
    "url = 'https://asdc.cloud.edu.au'"
   ]
  },
  {
   "cell_type": "code",
   "execution_count": null,
   "id": "6aa90bdc",
   "metadata": {},
   "outputs": [],
   "source": [
    "assert(token)"
   ]
  },
  {
   "cell_type": "markdown",
   "id": "bce051df",
   "metadata": {},
   "source": [
    "If everything works you should see a response like `Waiting for authorisation.... success`. If not then please go no further and investigate if you have the right server details and login. \n",
    "\n",
    "If you have a valid token, then please continue below. We are going to make a new project in your WebODM environment. For all further requests we can use the established token."
   ]
  },
  {
   "cell_type": "code",
   "execution_count": null,
   "id": "e943bb36",
   "metadata": {},
   "outputs": [],
   "source": [
    "from odk2odm import odm_requests\n",
    "data = {\n",
    "    \"name\": \"360 video point cloud\",\n",
    "    \"description\": \"this is a small WebODM project to demonstrate the ODMax capabilities\"\n",
    "}\n",
    "res = odm_requests.post_project(url, token, data=data)\n",
    "project = res.json()\n",
    "project_id = res.json()[\"id\"]\n",
    "print(project)\n"
   ]
  },
  {
   "cell_type": "markdown",
   "id": "2e57330f",
   "metadata": {},
   "source": [
    "This should give you all the details of a newly established project in WebODM. Within this project you can make several tasks to process, for instance for different areas, or different configurations. Each task consumes a set of photos and settings, and can then processed the provided photos into point clouds, meshes and other derivative products. Below we will make one task. In principle you can immediately add photos from disk to this task, but we will do a `partial` upload in smaller subtasks later on. Therefore we set the option `partial` to `True`.\n",
    "\n",
    "We also supply a list of options, that work well with ground-based datasets. For more information about the options available for WebODM tasks we refer to https://docs.opendronemap.org/"
   ]
  },
  {
   "cell_type": "code",
   "execution_count": null,
   "id": "eb755fd9",
   "metadata": {},
   "outputs": [],
   "source": [
    "# below we supply an extra option needed to work with spherical photos. The option with name \"camera-lens\" and \n",
    "# value \"spherical\" is essential if you use spherical imagery such as 360 degree photos. The job will fail if \n",
    "# you use a different (or default) camera-lens value.\n",
    "options_list = {\n",
    "    \"camera-lens\": \"spherical\",\n",
    "    \"dtm\": True,\n",
    "    \"dsm\": True,\n",
    "    \"feature-quality\": \"ultra\",  # Set feature extraction quality. Higher quality generates better features, but requires more memory and takes longer\n",
    "    \"matcher-distance\": 20,  # Good for street level photography. Will be changed when OpenSfM eventually is updated and has better defaults\n",
    "    \"matcher-neighbors\": 800,  # Good Necessary for street level photography. Will be changed when OpenSfM eventually is updated and has better defaults\n",
    "    \"mesh-octree-depth\": 14,  # Memory and CPU intensive but much nicer detail in meshes\n",
    "    \"mesh-size\": 400000,  # Memory intensive. Could probably be turned up louder\n",
    "    \"min-num-features\": 24000,  # One of the more important options: it improves matching significantly in complicated scenes.\n",
    "    \"pc-geometric\": True,  # Cleans the final model a bit based on visibility tests\n",
    "    \"pc-quality\": \"ultra\",  #Memory and CPU intensive but much nicer detail in point cloud\n",
    "}\n",
    "# convert into list with \"name\" / \"value\" dictionaries, suitable for ODM\n",
    "options = [{\"name\": k, \"value\": v} for k, v in options_list.items()]\n",
    "\n",
    "data = {\n",
    "    \"partial\": True,\n",
    "    \"name\": \"batch_1\",\n",
    "    \"options\": options\n",
    "}\n",
    "res = odm_requests.post_task(url, token, project_id, data=data)\n",
    "task = res.json()\n",
    "task_id = res.json()[\"id\"]\n",
    "print(task)"
   ]
  },
  {
   "cell_type": "markdown",
   "id": "391af44c",
   "metadata": {},
   "source": [
    "If everything went as normal, you should see information about the created task above. We create a `Video` object that we can extract frames with. Let's have a quick look at the geographical information too with the `.plot_gps` method."
   ]
  },
  {
   "cell_type": "code",
   "execution_count": null,
   "id": "fc2223f6",
   "metadata": {},
   "outputs": [],
   "source": [
    "import odmax\n",
    "video_file = \"GOPR0011_1599383304667.mp4\"\n",
    "Video = odmax.Video(video_file)\n",
    "\n",
    "# Let's have a quick look at the GPS track with the beautiful plotting function for the GPS track. If you have GPS data it'll be plotted\n",
    "Video.plot_gps(\n",
    "    geographical=True,\n",
    "    tiles=\"OSM\",\n",
    "    zoom_level=18,\n",
    "    plot_kwargs={\"color\": \"r\", \"marker\": \"x\"}\n",
    ")\n",
    "\n"
   ]
  },
  {
   "cell_type": "markdown",
   "id": "29e434be",
   "metadata": {},
   "source": [
    "Finally we are at the point where we can let `odmax` extract stills, reproject them, and upload them into the defined task. Let's first open a video and then define some settings we want to use. We want to extract stills from `t_start = 23` until `t_end = 76`. We choose this part because it is a part of video where some turns are taken and therefore lots of imagery is captured from different angles. With `odmax` functionalities we make a list of frames to process. "
   ]
  },
  {
   "cell_type": "code",
   "execution_count": null,
   "id": "2f4c7985",
   "metadata": {},
   "outputs": [],
   "source": [
    "t_start = 23\n",
    "t_end = 76\n",
    "# get the start and end frame\n",
    "start_frame = odmax.io.get_frame_number(Video.cap, t_start)\n",
    "end_frame = odmax.io.get_frame_number(Video.cap, t_end)\n",
    "# make a list of frames with 5-frame intervals\n",
    "frames = list(range(start_frame, end_frame, 5))\n",
    "print(frames)\n"
   ]
  },
  {
   "cell_type": "markdown",
   "id": "c952583b",
   "metadata": {},
   "source": [
    "Now we need to do several things in a loop. Per frame we will:\n",
    "* extract the frame using `Video.get_frame`. Let's skip reprojection for now, but you could add with `reprojection=True`, especially if you wish to mix photos from different platforms (e.g. 360-degree + drone)\n",
    "* encode the images into a ByteIO stream (we do not write any intermediate result to disk!). This stream can be    directly uploaded.\n",
    "* make a list of images with file names ready for uploading. This follows the ODM API, see https://docs.webodm.org.\n",
    "* Upload these images to the open WebODM task. \n",
    "\n",
    "To make this easier, we make a small helper function for the encoding. We also check if there is already a thumbnail for the stills, if that is the case we don't bother re-uploading it. We use `tqdm` to track progress. "
   ]
  },
  {
   "cell_type": "code",
   "execution_count": null,
   "id": "6b0b7617",
   "metadata": {},
   "outputs": [],
   "source": [
    "import cv2\n",
    "import io\n",
    "from tqdm.notebook import tqdm\n",
    "\n",
    "\n",
    "work = tqdm(frames, leave=True)\n",
    "for f in work:\n",
    "    # read the frame\n",
    "    Frame = Video.get_frame(f)\n",
    "    # convert into bytestream\n",
    "    bytestream = Frame.to_bytes()\n",
    "    # prepare fields for upload \n",
    "    filename = \"still_{:04d}.jpg\".format(f)\n",
    "    fields = {\n",
    "        \"images\": (\n",
    "            filename,\n",
    "            bytestream,\n",
    "            'images/jpg'\n",
    "        )\n",
    "    } \n",
    "    res = odm_requests.get_thumbnail(url, token, project_id, task_id, filename=filename)\n",
    "    if res.status_code == 200:\n",
    "        work.set_description(f\"File {filename} already exists on ODM task, skipping...\")\n",
    "    else:\n",
    "        work.set_description(f\"Uploading {filename}\")\n",
    "        # add field to uploads of tasks. In the post below, the actual uploading of one face of one frame is occurring\n",
    "        res = odm_requests.post_upload(url, token, project_id, task_id, fields)  \n"
   ]
  },
  {
   "cell_type": "markdown",
   "id": "929a2bdc",
   "metadata": {},
   "source": [
    "It is time to have a look at your current task within the WebODM environment. You will get the link to the appropriate task below. Click on it to display it in a separate window. You may have to login first, and then click on the link below again once logged in to get the right task. Return after inspection to do the final parts."
   ]
  },
  {
   "cell_type": "code",
   "execution_count": null,
   "id": "b31b0b48",
   "metadata": {},
   "outputs": [],
   "source": [
    "end_point = f\"{url}/dashboard/?project_task_open={project_id}&project_task_expanded={task_id}\"\n",
    "print(end_point)"
   ]
  },
  {
   "cell_type": "markdown",
   "id": "9097cce0",
   "metadata": {},
   "source": [
    "We can now commit the task so that it'll process and run"
   ]
  },
  {
   "cell_type": "code",
   "execution_count": null,
   "id": "d7294f0a",
   "metadata": {},
   "outputs": [],
   "source": [
    "res = odm_requests.post_commit(url, token, project_id, task_id).json()\n",
    "print(res)"
   ]
  },
  {
   "cell_type": "markdown",
   "id": "34174b95",
   "metadata": {},
   "source": [
    "Now we can track the progress of the task. You can do this by running the cell below and keep it running until it is done. It will take several hours to process this, you can simply leave this notebook and open your WebODM task on the WebODM dashboard to track progress and see results as well!"
   ]
  },
  {
   "cell_type": "code",
   "execution_count": null,
   "id": "c51e5aba",
   "metadata": {},
   "outputs": [],
   "source": [
    "import time\n",
    "running_progress = 0.\n",
    "print(\"The status bar below shows how far the processing is. When this is reaching 100% go back to your ODM server and check the results. Dependent on the resources, this may take a long time. You can also still got to:\")\n",
    "print(end_point)\n",
    "print(\"if you like to see the WebODM web-interface\")\n",
    "with tqdm(total=100) as pbar:\n",
    "    while running_progress < 1.:\n",
    "        res = odm_requests.get_task(url, token, project_id, task_id)\n",
    "        status = res.json()\n",
    "        running_progress = status[\"running_progress\"]\n",
    "        time.sleep(1)\n",
    "        pbar.n = running_progress*100\n",
    "        pbar.refresh()\n",
    "    "
   ]
  },
  {
   "cell_type": "code",
   "execution_count": null,
   "id": "b0ba97ae-7a52-4eba-ac71-48cf46c6e5b2",
   "metadata": {},
   "outputs": [],
   "source": []
  }
 ],
 "metadata": {
  "kernelspec": {
   "display_name": "Python 3 (ipykernel)",
   "language": "python",
   "name": "python3"
  },
  "language_info": {
   "codemirror_mode": {
    "name": "ipython",
    "version": 3
   },
   "file_extension": ".py",
   "mimetype": "text/x-python",
   "name": "python",
   "nbconvert_exporter": "python",
   "pygments_lexer": "ipython3",
   "version": "3.9.7"
  }
 },
 "nbformat": 4,
 "nbformat_minor": 5
}
