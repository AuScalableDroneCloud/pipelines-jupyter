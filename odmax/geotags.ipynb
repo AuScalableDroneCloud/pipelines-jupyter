{
 "cells": [
  {
   "cell_type": "markdown",
   "id": "3bd8fbf8",
   "metadata": {},
   "source": [
    "## Using geographical data from movies\n",
    "ODMax searches for geographical data in user-provided videos. If these are found, then outcoming stills will be provided with latitude, longitude and elevation coordinates. This notebook demonstrates this workflow and demonstrates how you can plot the data to get an idea of what coverage you have over your 360-degree video extracts.\n",
    "\n",
    "### Note\n",
    "This notebook requires `exiftool` to be installed. Please refer to the installation instructions on https://odmax.readthedocs.io if you do not yet have `exiftool` installed on your system."
   ]
  },
  {
   "cell_type": "markdown",
   "id": "70e46ad4",
   "metadata": {},
   "source": [
    "### Import packages\n",
    "let's first import the necessary packages for this notebook. We also make one convenience function to extract coordinates from JPG files later one"
   ]
  },
  {
   "cell_type": "code",
   "execution_count": null,
   "id": "083a14d2",
   "metadata": {},
   "outputs": [],
   "source": [
    "%matplotlib inline\n",
    "import os\n",
    "import odmax\n",
    "import matplotlib.pyplot as plt\n",
    "from PIL import Image\n",
    "from PIL.ExifTags import TAGS, GPSTAGS\n",
    "import cartopy.io.img_tiles as cimgt\n",
    "import cartopy.crs as ccrs\n",
    "\n",
    "def get_exif(fn):\n",
    "    \"\"\"Returns a dictionary from the exif data of an PIL Image item. Also converts the GPS Tags\"\"\"\n",
    "    image = Image.open(fn)\n",
    "    exif_data = {}\n",
    "    info = image._getexif()\n",
    "    if info:\n",
    "        for tag, value in info.items():\n",
    "            decoded = TAGS.get(tag, tag)\n",
    "            if decoded == \"GPSInfo\":\n",
    "                gps_data = {}\n",
    "                for t in value:\n",
    "                    sub_decoded = GPSTAGS.get(t, t)\n",
    "                    gps_data[sub_decoded] = value[t]\n",
    "                exif_data[decoded] = gps_data\n",
    "            else:\n",
    "                exif_data[decoded] = value\n",
    "    return exif_data\n"
   ]
  },
  {
   "cell_type": "markdown",
   "id": "4a4976c1",
   "metadata": {},
   "source": [
    "We need a large enough file to work with. Below we download a file containing 50 FPS data from a GoPro 360 camera platform."
   ]
  },
  {
   "cell_type": "code",
   "execution_count": null,
   "id": "75d2049a",
   "metadata": {},
   "outputs": [],
   "source": [
    "!wget https://object-store.rc.nectar.org.au/v1/AUTH_9f7c80bfd20f45bebc780b06c405f0df/asdc-public/GOPR0011_1599383304667.mp4"
   ]
  },
  {
   "cell_type": "markdown",
   "id": "83c1b819",
   "metadata": {},
   "source": [
    "Let us check if the file is indeed present in the current folder"
   ]
  },
  {
   "cell_type": "code",
   "execution_count": null,
   "id": "71e2a559",
   "metadata": {},
   "outputs": [],
   "source": [
    "ls"
   ]
  },
  {
   "cell_type": "markdown",
   "id": "74b9dff2",
   "metadata": {},
   "source": [
    "First, we will use the API to open the file as a `odmax.Video` object. If geographical information is found, this will be indicated and the first valid and complete point available with a coordinate and time stamp will be displayed with it."
   ]
  },
  {
   "cell_type": "code",
   "execution_count": null,
   "id": "2fc0de84",
   "metadata": {},
   "outputs": [],
   "source": [
    "import odmax\n",
    "video_file = \"GOPR0011_1599383304667.mp4\"\n",
    "Video = odmax.Video(video_file)\n"
   ]
  },
  {
   "cell_type": "markdown",
   "id": "a625f7d2",
   "metadata": {},
   "source": [
    "When `exiftool` is properly installed you should see a first location and time stamp displayed above. The actual gps information is stored in a property called `gdf_gps`"
   ]
  },
  {
   "cell_type": "code",
   "execution_count": null,
   "id": "f6933ff5",
   "metadata": {},
   "outputs": [],
   "source": [
    "Video.gdf_gps"
   ]
  },
  {
   "cell_type": "markdown",
   "id": "bdf1b682",
   "metadata": {},
   "source": [
    "This is a Geopandas DataFrame (i.e. gdf) which holds a geometry. We have a convenience method to plot this"
   ]
  },
  {
   "cell_type": "code",
   "execution_count": null,
   "id": "40bbfb91",
   "metadata": {},
   "outputs": [],
   "source": [
    "Video.plot_gps()"
   ]
  },
  {
   "cell_type": "markdown",
   "id": "365bd106",
   "metadata": {},
   "source": [
    "Let's look a bit closer at the plotting options"
   ]
  },
  {
   "cell_type": "code",
   "execution_count": null,
   "id": "96e5ed48",
   "metadata": {},
   "outputs": [],
   "source": [
    "help(Video.plot_gps)"
   ]
  },
  {
   "cell_type": "markdown",
   "id": "eea51553",
   "metadata": {},
   "source": [
    "We can use `cartopy` to further improve the plots and add background WMTS services. Let's try that with OpenStreetMap at a zoom level of 18 (make sure you install `cartopy` with `conda install cartopy`. `pip install` is very difficult)."
   ]
  },
  {
   "cell_type": "code",
   "execution_count": null,
   "id": "65c2fbce",
   "metadata": {},
   "outputs": [],
   "source": [
    "Video.plot_gps(\n",
    "    geographical=True,\n",
    "    tiles=\"OSM\",\n",
    "    zoom_level=18,\n",
    "    plot_kwargs={\"color\": \"r\", \"marker\": \"x\"}\n",
    ")\n",
    "\n"
   ]
  },
  {
   "cell_type": "markdown",
   "id": "2f3b4e1f",
   "metadata": {},
   "source": [
    "Another option is to use a satellite background by choosing a different WMTS service."
   ]
  },
  {
   "cell_type": "code",
   "execution_count": null,
   "id": "d4d7c46f",
   "metadata": {},
   "outputs": [],
   "source": [
    "Video.plot_gps(\n",
    "    geographical=True,\n",
    "    tiles=\"QuadtreeTiles\",\n",
    "    zoom_level=18,\n",
    "    plot_kwargs={\"color\": \"r\", \"marker\": \"x\"}\n",
    ")\n",
    "\n"
   ]
  },
  {
   "cell_type": "markdown",
   "id": "ff730474",
   "metadata": {},
   "source": [
    "Now let's extract 20 Frames from this track and store the latitudes and longitudes in two arrays. We'll also store the stills in .jpg files."
   ]
  },
  {
   "cell_type": "code",
   "execution_count": null,
   "id": "9706beff",
   "metadata": {},
   "outputs": [],
   "source": [
    "frames = list(range(1150, 1650, 25))\n",
    "lons, lats, fns = ([], [], [])\n",
    "path = \"geotest\"\n",
    "# ensure the path exists\n",
    "if not(os.path.isdir(path)):\n",
    "    os.makedirs(path)\n",
    "    \n",
    "for f in frames:\n",
    "    print(f\"Extracting frame {f}\")\n",
    "    Frame = Video.get_frame(f)\n",
    "    # File naming will be automated based on path and prefix. Default prefix is \"still\"\n",
    "    fn = Frame.to_file(path)\n",
    "    # keep track of the files\n",
    "    fns.append(fn)\n",
    "    # also store the lat and lon coordinate\n",
    "    lons.append(Frame.coord.lon)\n",
    "    lats.append(Frame.coord.lat)\n",
    "    \n"
   ]
  },
  {
   "cell_type": "markdown",
   "id": "76717c7b",
   "metadata": {},
   "source": [
    "We will also read the files back in memory and use a few PIL functions to extract the latitude and longitude coordinates from the .jpg. In this way we can make sure that the locations are written in the .jpgs properly."
   ]
  },
  {
   "cell_type": "code",
   "execution_count": null,
   "id": "f7a78a88",
   "metadata": {},
   "outputs": [],
   "source": [
    "lons2, lats2 = ([], [])\n",
    "for fn in fns:\n",
    "    exif = get_exif(fn)\n",
    "    l = exif[\"GPSInfo\"][\"GPSLatitude\"]\n",
    "    lat = l[0] + l[1]/60. + l[2]/3600\n",
    "    if exif[\"GPSInfo\"][\"GPSLatitudeRef\"] == \"S\":\n",
    "        lat *= -1\n",
    "    l = exif[\"GPSInfo\"][\"GPSLongitude\"]\n",
    "    lon = l[0] + l[1]/60. + l[2]/3600\n",
    "    if exif[\"GPSInfo\"][\"GPSLongitudeRef\"] == \"W\":\n",
    "        lon *= -1\n",
    "    lons2.append(lon)\n",
    "    lats2.append(lat)\n"
   ]
  },
  {
   "cell_type": "markdown",
   "id": "f9fa641b",
   "metadata": {},
   "source": [
    "Now plot all the information together to see if odmax accurately managed to geotag the stills."
   ]
  },
  {
   "cell_type": "code",
   "execution_count": null,
   "id": "dea7ea58",
   "metadata": {},
   "outputs": [],
   "source": [
    "ax = Video.plot_gps(geographical=True, figsize=(16, 10), tiles=\"OSM\", crs=cimgt.GoogleTiles().crs, zoom_level=18, plot_kwargs={\"color\": \"k\", \"marker\": \".\", \"label\": \"original video\"})\n",
    "ax.plot(lons, lats, \"o\", markersize=12, transform=ccrs.PlateCarree(), zorder=2, label=\"before file writing\")\n",
    "ax.plot(lons2, lats2, \"x\", markersize=10, color=\"r\", transform=ccrs.PlateCarree(), zorder=3, label=\"after file writing\")\n",
    "plt.legend()\n",
    "\n",
    "# retrieve the current counding box in geographical coordinates\n",
    "bbox = list(ax.get_extent(crs=ccrs.PlateCarree()))\n",
    "print(bbox)\n",
    "# make the box a bit more zoomed in\n",
    "bbox[2] +=0.7*(bbox[3]-bbox[2])\n",
    "ax.set_extent(bbox, crs=ccrs.PlateCarree())\n",
    "\n"
   ]
  }
 ],
 "metadata": {
  "kernelspec": {
   "display_name": "Python 3 (ipykernel)",
   "language": "python",
   "name": "python3"
  },
  "language_info": {
   "codemirror_mode": {
    "name": "ipython",
    "version": 3
   },
   "file_extension": ".py",
   "mimetype": "text/x-python",
   "name": "python",
   "nbconvert_exporter": "python",
   "pygments_lexer": "ipython3",
   "version": "3.9.7"
  }
 },
 "nbformat": 4,
 "nbformat_minor": 5
}
