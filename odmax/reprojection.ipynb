{
 "cells": [
  {
   "cell_type": "markdown",
   "id": "05907c2f",
   "metadata": {},
   "source": [
    "## Reprojection of existing 360 JPGs into cube-like reprojected images"
   ]
  },
  {
   "cell_type": "markdown",
   "id": "d92d6607",
   "metadata": {},
   "source": [
    "**ODMax** allows for immediate reprojection of your 360 images into a cube-like reprojection. You can do so by passing several options, as demonstrated below in the help of the command-line utility."
   ]
  },
  {
   "cell_type": "code",
   "execution_count": null,
   "id": "17889f2f",
   "metadata": {},
   "outputs": [],
   "source": [
    "!odmax --help"
   ]
  },
  {
   "cell_type": "markdown",
   "id": "49cd07a3",
   "metadata": {},
   "source": [
    "### Import packages\n",
    "let's first import the necessary packages for this notebook"
   ]
  },
  {
   "cell_type": "code",
   "execution_count": null,
   "id": "3ee59775",
   "metadata": {},
   "outputs": [],
   "source": [
    "%matplotlib inline\n",
    "import os\n",
    "import odmax\n",
    "import cv2\n",
    "import numpy as np\n",
    "import odmax\n",
    "import matplotlib.pyplot as plt"
   ]
  },
  {
   "cell_type": "markdown",
   "id": "a70ec4c9",
   "metadata": {},
   "source": [
    "### Command-line processing including projection\n",
    "We show an example with the video **forest.mp4** from the examples folder. We extract frames once every second, and on-the-fly reproject the frames on a cube-like projection. Please note that we also write the results into a temporary folder on your home directory, so please delete these afterwards. The command issued at the end of the next code-block essentially does the following:\n",
    "\n",
    "* `-r`         : indicate that reprojection should be done\n",
    "* `-f 1024`    : in reprojection, each face will be 1024 pixels long\n",
    "* `-m bilinear`: the mode of resampling is bilinear (but can also be nearest)\n",
    "* `-s 0`       : we start extraction at zero seconds\n",
    "* `-e 1`       : we end extraction at 1 seconds\n",
    "* `-d 5`       : we extract every 5th frame\n"
   ]
  },
  {
   "cell_type": "code",
   "execution_count": null,
   "id": "c2f71862",
   "metadata": {},
   "outputs": [],
   "source": [
    "video_file = os.path.join(\"..\", \"examples\", \"forest.mp4\")\n",
    "path_out = os.path.join(\"..\", \"tmp\")\n",
    "# make the output path if it doesn't exist\n",
    "if not(os.path.isdir(path_out)):\n",
    "    os.makedirs(path_out)\n",
    "print(f\"Processing {video_file} and writing outputs to {os.path.abspath(path_out)}\")\n",
    "# !odmax -r -f 1024 -m bilinear -s 0 -e 1 -d 5 -i \"$video_file\" -o \"$path_out\""
   ]
  },
  {
   "cell_type": "markdown",
   "id": "f4254ddd",
   "metadata": {},
   "source": [
    "### More control over processing\n",
    "It is also possible to have more control over what odmax does by using the API. Below, we show that we can also control this process interactively, and read 360-stills and reproject that to a 6-directional cube-like projection if we like.\n",
    "\n",
    "Let's first open our video file"
   ]
  },
  {
   "cell_type": "code",
   "execution_count": null,
   "id": "ae71e764",
   "metadata": {},
   "outputs": [],
   "source": [
    "Video = odmax.Video(video_file)\n",
    "print(Video)\n"
   ]
  },
  {
   "cell_type": "markdown",
   "id": "5fa26beb",
   "metadata": {},
   "source": [
    "We see a warning message, because this video does not contain any GPS information. That won't mean we cannot extract frames. Below, we extract the 20th frame without any reprojection\n"
   ]
  },
  {
   "cell_type": "code",
   "execution_count": null,
   "id": "3cc5b67d",
   "metadata": {},
   "outputs": [],
   "source": [
    "f = Video.get_frame(20)\n",
    "f.plot()"
   ]
  },
  {
   "cell_type": "markdown",
   "id": "c7268a59",
   "metadata": {},
   "source": [
    "We can also do reprojection, so that we get 6 cube-directions instead of one 360-degree image. let's show that below. Note that this also allows for manipulating the reprojection parameters if you want to.."
   ]
  },
  {
   "cell_type": "code",
   "execution_count": null,
   "id": "d8a95a2e",
   "metadata": {},
   "outputs": [],
   "source": [
    "f = Video.get_frame(20, reproject=True, face_w=1024, mode=\"bilinear\")\n",
    "f.plot()"
   ]
  },
  {
   "cell_type": "markdown",
   "id": "5858f11f",
   "metadata": {},
   "source": [
    "Finally we can also store the results. You need to provide a path, file prefix and encoder you wish to use. If your frame holds cube projected images, 6 images will automatically be produced. Below we store the results and demonstrated that output files are present."
   ]
  },
  {
   "cell_type": "code",
   "execution_count": null,
   "id": "ec00da4c",
   "metadata": {},
   "outputs": [],
   "source": [
    "import glob\n",
    "out_path = \"stills\"  # relative path to outputs\n",
    "encoder = \"jpg\"\n",
    "prefix = \"forest\"\n",
    "if not(os.path.isdir(out_path)):\n",
    "    os.makedirs(out_path)\n",
    "\n",
    "f.to_file(path=out_path, prefix=prefix, encoder=encoder)\n",
    "\n",
    "print(\"Files produced\")\n",
    "print(\"==============\")\n",
    "glob.glob(os.path.join(out_path, f\"{prefix}*\"))\n",
    "\n"
   ]
  }
 ],
 "metadata": {
  "kernelspec": {
   "display_name": "Python 3 (ipykernel)",
   "language": "python",
   "name": "python3"
  },
  "language_info": {
   "codemirror_mode": {
    "name": "ipython",
    "version": 3
   },
   "file_extension": ".py",
   "mimetype": "text/x-python",
   "name": "python",
   "nbconvert_exporter": "python",
   "pygments_lexer": "ipython3",
   "version": "3.8.12"
  }
 },
 "nbformat": 4,
 "nbformat_minor": 5
}
