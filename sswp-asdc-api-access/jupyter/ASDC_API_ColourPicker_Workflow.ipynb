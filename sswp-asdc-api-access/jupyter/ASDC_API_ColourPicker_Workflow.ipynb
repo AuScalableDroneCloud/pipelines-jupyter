{
 "cells": [
  {
   "cell_type": "markdown",
   "metadata": {
    "id": "iQWaDHSq_AUc"
   },
   "source": [
    "\n",
    "# ASDC SSWP Colour Picker Notebook\n",
    "\n",
    "Preparatory steps and workflow for Colour Picker functionality of the ASDC/SSWP API \n",
    "\n",
    "Developed by 2Pi Software\n",
    "\n",
    "Dane Evans"
   ]
  },
  {
   "cell_type": "markdown",
   "metadata": {
    "id": "dOSXjj36I3WK"
   },
   "source": [
    "## Function of the SSWP Colour Picker\n",
    "\n",
    "The SSWP Colour Picker examines sets of images to identify pixels with colours falling in a specified range. To assist interaction of determining the colour range, a sample colour 'Swatch' is referenced.\n",
    "\n",
    "The Swatch may be a small cropped area from a target image, a composite of selected target pixel spreads, or a generated colour gradient.\n",
    "\n",
    "When the Colour Picker is run, positive image results will be returned with bounding boxes marked. Bounding box extents as image co-ordinates are also output as text.\n",
    "\n",
    "Colour ranges can be assessed in either RGB or HSV colour spaces. For the swatch to determine the range, it is first subject to clustering, establishing a majority colour spread, then the calculated spread is bracketed. (Defaulting to two bands of clustering as foreground vs background and retaining 98% spread of the majority band.)\n",
    "\n",
    "Colour Picking and range extraction from Swatches can be chained into a single automated run or can be run as distinct processes."
   ]
  },
  {
   "cell_type": "code",
   "execution_count": null,
   "metadata": {
    "id": "EGsax5a5-9SF"
   },
   "outputs": [],
   "source": [
    "# --- Initialisation ----\n",
    "\n",
    "# Imports \n",
    "import requests \n",
    "import json\n",
    "import time\n",
    "from getpass import getpass\n",
    "import ipywidgets as widgets\n",
    "\n",
    "# For dev, allow refresh of support lib\n",
    "import importlib\n",
    "\n",
    "import ASDC_API_support\n",
    "importlib.reload(ASDC_API_support)\n",
    "print(\"Lib loaded\")\n",
    "\n",
    "# Useful links to remember\n",
    "site_url = \"https://dev2pi.sswp.cosinecrm.com.au\"\n",
    "base_url = site_url + \"/sswpapps-api/\"\n",
    "auth_url = base_url + \"auth\""
   ]
  },
  {
   "cell_type": "markdown",
   "metadata": {
    "id": "3e0yo6HsIf7h"
   },
   "source": [
    "# Establish API authorisation"
   ]
  },
  {
   "cell_type": "markdown",
   "metadata": {
    "id": "GDbXQh5y_C83"
   },
   "source": [
    "## Setup your ASDC user access\n",
    "\n",
    "1. go to https://dev2pi.sswp.cosinecrm.com.au\n",
    "2. log in to your SSWP account \n",
    "3. go to SSWP Apps > Manage account\n",
    "4. set an App password using the Update Password interface in the middle of the screen\n",
    "\n"
   ]
  },
  {
   "cell_type": "markdown",
   "metadata": {
    "id": "o0K2SIFQg3aO"
   },
   "source": [
    "## Obtain a token for API access\n",
    "1. go to https://dev2pi.sswp.cosinecrm.com.au/sswpapps-api/auth\n",
    "2. log in with your ASDC user name and password\n",
    "3. copy out the token, and paste it into the following cell as a string\n",
    "4. (revisit the link to refresh or revoke your token at any time)"
   ]
  },
  {
   "cell_type": "markdown",
   "metadata": {
    "id": "yGTlcK1REnpe"
   },
   "source": [
    "\n",
    "# Use a token to access API endpoints\n",
    "\n"
   ]
  },
  {
   "cell_type": "code",
   "execution_count": null,
   "metadata": {
    "id": "u-WnxHgUBcdz"
   },
   "outputs": [],
   "source": [
    "#@title\n",
    "# Initialise the API \n",
    "\n",
    "token = getpass(\"Paste your ASDC API token here:\")     \n",
    "asdc_api = ASDC_API_support.ASDC_API_wrappers(token)"
   ]
  },
  {
   "cell_type": "markdown",
   "metadata": {
    "id": "jBDw6-4rhJ7O"
   },
   "source": [
    "## The Info endpoint describes all available actions."
   ]
  },
  {
   "cell_type": "code",
   "execution_count": null,
   "metadata": {
    "id": "HRX9punP-_gX"
   },
   "outputs": [],
   "source": [
    "asdc_api.format_human_readable(asdc_api.info_request())"
   ]
  },
  {
   "cell_type": "markdown",
   "metadata": {
    "id": "FCbKEw-Fga2p"
   },
   "source": [
    "## Example: The Uploads endpoint summarises your stored files."
   ]
  },
  {
   "cell_type": "code",
   "execution_count": null,
   "metadata": {
    "id": "XPKqREWFiLP1"
   },
   "outputs": [],
   "source": [
    "uploads = asdc_api.asdc_uploads()\n",
    "try:\n",
    "    uploads = uploads.json()['response']['payload']['uploads']\n",
    "    list_uploads = []\n",
    "    for i in uploads:\n",
    "      list_uploads.append(str(i.get('id')) + \": \" + str(i.get('title')))\n",
    "except KeyError:\n",
    "    print(\"No uploads.\")\n",
    "\n",
    "upload_picker = widgets.Dropdown(options=list_uploads)\n",
    "upload_picker"
   ]
  },
  {
   "cell_type": "markdown",
   "metadata": {
    "id": "8dMJqL2ucJ7c"
   },
   "source": [
    "# Workflows\n",
    "\n"
   ]
  },
  {
   "cell_type": "markdown",
   "metadata": {
    "id": "PaRoAxmDDuOh"
   },
   "source": [
    "## To make image sets available\n",
    "- Nominate images for upload using 'public facing' URI's\n",
    "- Upload sets of images including colour range swatches\n",
    "- Keep track of your uploads by title and id\n"
   ]
  },
  {
   "cell_type": "code",
   "execution_count": null,
   "metadata": {
    "id": "2pj3dC-9D-Zq"
   },
   "outputs": [],
   "source": [
    "## Enter URI's, whitespace separated or on multiple lines\n",
    "#  Enter a blank last line to finish\n",
    "uploading_uri_set = []\n",
    "while True:\n",
    "  uri_block = input()\n",
    "  if uri_block == \"\":\n",
    "    break\n",
    "  uri_block = uri_block.strip()\n",
    "  upload_additions =  uri_block.split()\n",
    "  [uploading_uri_set.append(y) for y in (upload_additions)]\n",
    "\n",
    "print(\"Confirming upload URI's:\")\n",
    "print(uploading_uri_set)"
   ]
  },
  {
   "cell_type": "code",
   "execution_count": null,
   "metadata": {
    "id": "cIPJsLkgEDKI",
    "scrolled": true
   },
   "outputs": [],
   "source": [
    "## Start the upload process \n",
    "process_title = input(\"Enter a unique upload title: \")\n",
    "\n",
    "process = asdc_api.asdc_processes_source(process_title, uploading_uri_set)\n",
    "\n",
    "if process.status_code != 500:\n",
    "  process_ids = []\n",
    "  for i in process.json()['response']['payload']['launched']:\n",
    "    process_ids.append(int(i.get('id')))\n",
    "  print(process_ids)\n",
    "\n",
    "  # Poll for the processes to finish \n",
    "  for i in range(30):\n",
    "    print(\"Polling: \" + str(i))\n",
    "    done = True\n",
    "    for process in process_ids:\n",
    "      # explicitly note the process type as \"source\" for status of upload\n",
    "      refresh = asdc_api.asdc_process_refresh(str(process)+\"/source\")\n",
    "      message = refresh.json()['response']['payload']['process'][0]['message']\n",
    "      print(\"Process \" + str(process) + \": \" + message)\n",
    "      done &= (\"Uploaded\" in message)\n",
    "    if done: \n",
    "      print(\"Processes completed. \")\n",
    "      i=0\n",
    "      break\n",
    "    time.sleep(1)\n",
    "  if (i==29):\n",
    "    print(\"Processing is slow, please check SSWP console.\")\n",
    "else: # 500 error\n",
    "  print(process.reason)\n",
    "  print(process.json()['response']['payload'])"
   ]
  },
  {
   "cell_type": "markdown",
   "metadata": {
    "id": "mXTUouagDzze"
   },
   "source": [
    "## To create colour ranges from swatches\n",
    "- List your uploads\n",
    "- Select a swatch set upload by title and id\n",
    "- Start a \"range\" process \n",
    "- Poll until it process completes\n",
    "- Get back colour range files"
   ]
  },
  {
   "cell_type": "code",
   "execution_count": null,
   "metadata": {
    "id": "ypoI0RPfx0Tb"
   },
   "outputs": [],
   "source": [
    "## Get a list of your uploads \n",
    "\n",
    "uploads = asdc_api.asdc_uploads()\n",
    "#asdc_api.format_human_readable(uploads)\n",
    "uploads = uploads.json()['response']['payload']['uploads']\n",
    "list_uploads = []\n",
    "for i in uploads:\n",
    "  list_uploads.append(str(i.get('id')) + \": \" + str(i.get('title')))\n",
    "\n",
    "print(\"Please select an upload:\")\n",
    "upload_picker = widgets.Dropdown(options=list_uploads)\n",
    "upload_picker"
   ]
  },
  {
   "cell_type": "code",
   "execution_count": null,
   "metadata": {
    "id": "1H2qQGU3DTyG"
   },
   "outputs": [],
   "source": [
    "## After selecting an upload above, select an image to be a swatch \n",
    "selected_upload = upload_picker.value.split(':')[0]\n",
    "\n",
    "# get the file list from the selected upload\n",
    "upload_details = asdc_api.asdc_uploads(selected_upload, get_data=True)\n",
    "#asdc_api.format_human_readable(upload_details)\n",
    "files = upload_details.json()['response']['payload']['uploads'][0]['results']\n",
    "list_files = []\n",
    "for i in files:\n",
    "  list_files.append(str(i.get('file')) + \": \" + str(i.get('filename')))\n",
    "\n",
    "print(\"Please select a swatch image:\")\n",
    "swatch_picker = widgets.Dropdown(options=list_files)\n",
    "swatch_picker"
   ]
  },
  {
   "cell_type": "code",
   "execution_count": null,
   "metadata": {},
   "outputs": [],
   "source": [
    "## Start the looped processes\n",
    "process_title = input(\"Enter a unique processing title: \") ## BandSpreadOnBoneSeed\n",
    "\n",
    "selected_upload = upload_picker.value.split(':')[0];\n",
    "selected_swatches = {swatch_picker.value.split(':')[0]} ##, 3153, 3154, 3155, 3156}\n",
    "run_for_bands = {1,2,3}\n",
    "run_for_spread = {25,72,88,98}\n",
    "colorspace = \"BGR\"\n",
    "\n",
    "process_ids = []\n",
    "\n",
    "for sw in selected_swatches:\n",
    "  for bd in run_for_bands:\n",
    "    for sp in run_for_spread:\n",
    "\n",
    "      process = asdc_api.asdc_processes_range(str(process_title)+\":\"+str(sw)+\":\"+str(bd)+\":\"+str(sp), sw, selected_upload, colorspace=\"BGR\", bands=bd, spread=sp)\n",
    "      if process.status_code != 500:\n",
    "        for i in process.json()['response']['payload']['launched']:\n",
    "          process_ids.append(int(i.get('id')))\n",
    "\n",
    "print(process_ids)\n",
    "\n",
    "# Poll for the processes to finish \n",
    "for i in range(30):\n",
    "  print(\"Polling: \" + str(i))\n",
    "  done = True\n",
    "  for j in process_ids:\n",
    "    refresh = asdc_api.asdc_process_refresh(j)\n",
    "    message = refresh.json()['response']['payload']['process'][0]['message']\n",
    "    print(\"Process \" + str(j) + \": \" + message)\n",
    "    done &= message == \"Results available\"\n",
    "  if done: \n",
    "    print(\"Processes completed. \")\n",
    "    i=0\n",
    "    break\n",
    "  time.sleep(1)\n",
    "if (i==29):\n",
    "    print(\"Processing is slow, please check SSWP console.\")\n",
    "else: # 500 error\n",
    "    print(process.reason)\n",
    "    print(process.json()['response']['payload'])"
   ]
  },
  {
   "cell_type": "code",
   "execution_count": null,
   "metadata": {},
   "outputs": [],
   "source": [
    "import pandas as pd\n",
    "import numpy as np\n",
    "import matplotlib.pyplot as plt\n",
    "\n",
    "def get_color_gradient(c1, c2, n):\n",
    "    \"\"\"\n",
    "    Adapted from sketch by kaggle.com/code/brendanartley\n",
    "    \"\"\"\n",
    "    assert n > 1\n",
    "    c1_rgb = np.array(c1)/255\n",
    "    c2_rgb = np.array(c2)/255\n",
    "    mix_pcts = [x/(n-1) for x in range(n)]\n",
    "    rgb_colors = [((1-mix)*c1_rgb + (mix*c2_rgb)) for mix in mix_pcts]\n",
    "    return [\"#\" + \"\".join([format(int(round(val*255)), \"02x\") for val in item]) for item in rgb_colors]\n",
    "\n",
    "\n",
    "pieces = 120\n",
    "min_id = min(process_ids)\n",
    "max_id = max(process_ids)\n",
    "\n",
    "## view results data \n",
    "for process in [*range(min_id, max_id, 1)] :\n",
    "  apiGave = asdc_api.asdc_swatches(process, get_data=True)\n",
    "  asdc_api.format_human_readable(apiGave)\n",
    "  ranged = apiGave.json()['response']['payload']['swatches'][0]['results']['range']\n",
    "  lbound = (ranged['Low'].replace('\\n','').replace('{','').replace('}','').split())\n",
    "  ubound = (ranged['High'].replace('\\n','').replace('{','').replace('}','').split())\n",
    "\n",
    "  lbound = [int(asStr) for asStr in lbound[0:3]]\n",
    "  lbound[0],lbound[2] = lbound[2],lbound[0]\n",
    "  ubound = [int(asStr) for asStr in ubound[0:3]]\n",
    "  ubound[0],ubound[2] = ubound[2],ubound[0]\n",
    "\n",
    "  plt.figure(figsize=(4,4))\n",
    "  plt.pie([2 for i in range(pieces*6)], colors = get_color_gradient(lbound, ubound, pieces))\n",
    "  plt.axis('equal')\n",
    "  plt.title(\"Gradient View\")\n",
    "  plt.show()"
   ]
  },
  {
   "cell_type": "markdown",
   "metadata": {},
   "source": [
    "## To run colour picking against an upload\n",
    "- List your uploads\n",
    "- Select an upload by title and id\n",
    "- Start a \"picker\" process \n",
    "- Poll until it process completes\n",
    "- Get back matches with bounding boxes"
   ]
  },
  {
   "cell_type": "code",
   "execution_count": null,
   "metadata": {},
   "outputs": [],
   "source": [
    "## Get a list of your uploads \n",
    "\n",
    "uploads = asdc_api.asdc_uploads()\n",
    "#asdc_api.format_human_readable(uploads)\n",
    "uploads = uploads.json()['response']['payload']['uploads']\n",
    "list_uploads = []\n",
    "for i in uploads:\n",
    "  list_uploads.append(str(i.get('id')) + \": \" + str(i.get('title')))\n",
    "\n",
    "print(\"Please select an upload:\")\n",
    "selected_picker = widgets.Dropdown(options=list_uploads)\n",
    "selected_picker"
   ]
  },
  {
   "cell_type": "code",
   "execution_count": null,
   "metadata": {
    "scrolled": true
   },
   "outputs": [],
   "source": [
    "## Start the chained processes\n",
    "process_title = input(\"Enter a unique processing title: \")\n",
    "\n",
    "selected_swatch = 324\n",
    "selected_picker = selected_picker.value.split(':')[0]\n",
    "\n",
    "# Adapt parameters if you wish\n",
    "# colorspace = \"BGR\"\n",
    "# bands = 2\n",
    "# spread = 82\n",
    "\n",
    "process = asdc_api.asdc_processes_picker(process_title, selected_swatch, selected_picker)\n",
    "#print(process.json())\n",
    "\n",
    "if process.status_code != 500:\n",
    "    process_ids = []\n",
    "    for i in process.json()['response']['payload']['launched']:\n",
    "        process_ids.append(int(i.get('id')))\n",
    "        print(process_ids)\n",
    "\n",
    "    # Poll for the processes to finish \n",
    "    for i in range(30):\n",
    "        print(\"Polling: \" + str(i))\n",
    "        done = True\n",
    "        for j in process_ids:\n",
    "            refresh = asdc_api.asdc_process_refresh(j)\n",
    "            message = refresh.json()['response']['payload']['process'][0]['message']\n",
    "            print(\"Process \" + str(j) + \": \" + message)\n",
    "            done &= message == \"Results available\"\n",
    "        if done: \n",
    "            print(\"Processes completed. \")\n",
    "            i=0\n",
    "            break\n",
    "        time.sleep(1)\n",
    "        if (i==29):\n",
    "            print(\"Processing is slow, please check SSWP console.\")\n",
    "        else: # 500 error\n",
    "            print(process.reason)\n",
    "            print(process.json()['response']['payload'])"
   ]
  },
  {
   "cell_type": "code",
   "execution_count": null,
   "metadata": {
    "id": "-BHMMbzMf47A",
    "scrolled": true
   },
   "outputs": [],
   "source": [
    "## view results data \n",
    "for process in process_ids:\n",
    "  print(process)\n",
    "  asdc_api.format_human_readable(asdc_api.asdc_runs(process, get_data=True))"
   ]
  },
  {
   "cell_type": "code",
   "execution_count": null,
   "metadata": {
    "id": "NnoFNkKewtja"
   },
   "outputs": [],
   "source": [
    "## Chase links from results per above\n",
    "result_link_details = asdc_api.asdc_runs(process_ids[0], get_data=True)\n",
    "files = result_link_details.json()['response']['payload']['runs'][0]['results']\n",
    "\n",
    "list_files = []\n",
    "for i in files:\n",
    "  list_files.append(str(i.get('get_link')))\n",
    "print(\"Please select a results download request:\")\n",
    "link_picker = widgets.Dropdown(options=list_files)\n",
    "link_picker"
   ]
  },
  {
   "cell_type": "code",
   "execution_count": null,
   "metadata": {
    "id": "Z2TNcwMqZIvd"
   },
   "outputs": [],
   "source": [
    "## Get a directly accessible link:\n",
    "print(asdc_api.asdc_download_by_link(request_url=link_picker.value).content)"
   ]
  },
  {
   "cell_type": "code",
   "execution_count": null,
   "metadata": {},
   "outputs": [],
   "source": [
    "# ## Start the chained processes\n",
    "# process_title = input(\"Enter a unique processing title: \")\n",
    "\n",
    "# selected_swatch = swatch_picker.value.split(':')[0]\n",
    "\n",
    "# # Adapt parameters if you wish\n",
    "# colorspace = \"BGR\"\n",
    "# bands = 2\n",
    "# spread = 82\n",
    "\n",
    "# process = asdc_api.asdc_processes_chain(process_title, selected_swatch, selected_upload, colorspace, bands, spread)\n",
    "# #print(process.json())\n",
    "\n",
    "# if process.status_code != 500:\n",
    "#   process_ids = []\n",
    "#   for i in process.json()['response']['payload']['launched']:\n",
    "#     process_ids.append(int(i.get('id')))\n",
    "#   print(process_ids)\n",
    "\n",
    "#   # Poll for the processes to finish \n",
    "#   for i in range(30):\n",
    "#     print(\"Polling: \" + str(i))\n",
    "#     done = True\n",
    "#     for process in process_ids:\n",
    "#       refresh = asdc_api.asdc_process_refresh(process)\n",
    "#       message = refresh.json()['response']['payload']['process'][0]['message']\n",
    "#       print(\"Process \" + str(process) + \": \" + message)\n",
    "#       done &= message == \"Results available\"\n",
    "#     if done: \n",
    "#       print(\"Processes completed. \")\n",
    "#       i=0\n",
    "#       break\n",
    "#     time.sleep(1)\n",
    "#   if (i==29):\n",
    "#     print(\"Processing is slow, please check SSWP console.\")\n",
    "# else: # 500 error\n",
    "#   print(process.reason)\n",
    "#   print(process.json()['response']['payload'])"
   ]
  },
  {
   "cell_type": "markdown",
   "metadata": {},
   "source": [
    "# Custom Workflow"
   ]
  },
  {
   "cell_type": "code",
   "execution_count": null,
   "metadata": {},
   "outputs": [],
   "source": [
    "import matplotlib.pyplot as plt\n",
    "import ASDC_API_helper"
   ]
  },
  {
   "cell_type": "markdown",
   "metadata": {},
   "source": [
    "#### Authenticate with API token"
   ]
  },
  {
   "cell_type": "code",
   "execution_count": null,
   "metadata": {},
   "outputs": [],
   "source": [
    "helper = ASDC_API_helper.Helper()"
   ]
  },
  {
   "cell_type": "markdown",
   "metadata": {},
   "source": [
    "### **Uploads**\n",
    "\n",
    "#### Select from a list of my uploaded image sets"
   ]
  },
  {
   "cell_type": "code",
   "execution_count": null,
   "metadata": {},
   "outputs": [],
   "source": [
    "helper.select_upload()"
   ]
  },
  {
   "cell_type": "markdown",
   "metadata": {},
   "source": [
    "#### Get a sample of the files in my selected image set"
   ]
  },
  {
   "cell_type": "code",
   "execution_count": null,
   "metadata": {},
   "outputs": [],
   "source": [
    "print(\"Files in this upload:\")\n",
    "for key in [x for x in helper.selection['upload']][:5]:\n",
    "    print(key, helper.selection['upload'][key]['filename'])\n",
    "if len(helper.selection['upload']) > 5:\n",
    "    print(\"...\")"
   ]
  },
  {
   "cell_type": "markdown",
   "metadata": {},
   "source": [
    "#### Get the image content for each image in the set"
   ]
  },
  {
   "cell_type": "code",
   "execution_count": null,
   "metadata": {},
   "outputs": [],
   "source": [
    "helper.selection['upload'] = helper.get_image_content(helper.selection['upload_id'], helper.selection['upload'])"
   ]
  },
  {
   "cell_type": "markdown",
   "metadata": {},
   "source": [
    "#### Plot all images in the set"
   ]
  },
  {
   "cell_type": "code",
   "execution_count": null,
   "metadata": {},
   "outputs": [],
   "source": [
    "helper.plot_figures(helper.selection['upload'], ncols=5)"
   ]
  },
  {
   "cell_type": "markdown",
   "metadata": {},
   "source": [
    "### **Runs**\n",
    "\n",
    "#### Select from a list of my runs"
   ]
  },
  {
   "cell_type": "code",
   "execution_count": null,
   "metadata": {},
   "outputs": [],
   "source": [
    "helper.select_run()"
   ]
  },
  {
   "cell_type": "markdown",
   "metadata": {},
   "source": [
    "#### Get a sample of the files in my selected image set"
   ]
  },
  {
   "cell_type": "code",
   "execution_count": null,
   "metadata": {},
   "outputs": [],
   "source": [
    "print(\"Files in this run:\")\n",
    "for key in [x for x in helper.selection['run']]:\n",
    "    print(key, helper.selection['run'][key]['filename'])\n",
    "# if len(helper.selection['run']) > 5:\n",
    "#     print(\"...\")"
   ]
  },
  {
   "cell_type": "markdown",
   "metadata": {
    "editable": true,
    "slideshow": {
     "slide_type": ""
    },
    "tags": []
   },
   "source": [
    "#### Get the image content for each image in the set"
   ]
  },
  {
   "cell_type": "code",
   "execution_count": null,
   "metadata": {},
   "outputs": [],
   "source": [
    "helper.get_image_arrays(helper.selection['run_root_id'], helper.selection['run'])"
   ]
  },
  {
   "cell_type": "markdown",
   "metadata": {},
   "source": [
    "#### Plot all images in the set"
   ]
  },
  {
   "cell_type": "code",
   "execution_count": null,
   "metadata": {},
   "outputs": [],
   "source": [
    "helper.plot_figures(helper.selection['run'], ncols=4, size=3)"
   ]
  },
  {
   "cell_type": "code",
   "execution_count": null,
   "metadata": {},
   "outputs": [],
   "source": [
    "img = helper.selection['run']['3732']['array']\n",
    "\n",
    "plt.imshow(img)"
   ]
  },
  {
   "cell_type": "code",
   "execution_count": null,
   "metadata": {},
   "outputs": [],
   "source": [
    "helper.get_crops(helper.selection['run_root_id'])"
   ]
  },
  {
   "cell_type": "code",
   "execution_count": null,
   "metadata": {},
   "outputs": [],
   "source": [
    "crops = helper.selection['run']['3732']['crops']"
   ]
  },
  {
   "cell_type": "code",
   "execution_count": null,
   "metadata": {},
   "outputs": [],
   "source": [
    "import numpy as np\n",
    "import cv2\n",
    "\n",
    "i = 2\n",
    "buffer = 0\n",
    "\n",
    "crop_bgr = cv2.cvtColor(crops[i], cv2.COLOR_RGB2BGR)\n",
    "\n",
    "#set the lower and upper bounds for the green hue\n",
    "lower = np.array([151-buffer,255-buffer,254-buffer])\n",
    "upper = np.array([159+buffer,255,255])\n",
    "\n",
    "#create a mask for green colour using inRange function\n",
    "mask = cv2.inRange(crop_bgr, lower, upper)\n",
    "\n",
    "#perform bitwise and on the original image arrays using the mask\n",
    "res = cv2.bitwise_and(crops[i], crops[i], mask=mask)\n",
    "\n",
    "plt.imshow(res)"
   ]
  },
  {
   "cell_type": "code",
   "execution_count": null,
   "metadata": {},
   "outputs": [],
   "source": [
    "plt.imshow(crops[2])"
   ]
  },
  {
   "cell_type": "code",
   "execution_count": null,
   "metadata": {},
   "outputs": [],
   "source": []
  }
 ],
 "metadata": {
  "colab": {
   "collapsed_sections": [],
   "name": "ASDC_API_ColourPicker_Workflow.ipynb",
   "provenance": [],
   "toc_visible": true
  },
  "kernelspec": {
   "display_name": "Python 3 (ipykernel)",
   "language": "python",
   "name": "python3"
  },
  "language_info": {
   "codemirror_mode": {
    "name": "ipython",
    "version": 3
   },
   "file_extension": ".py",
   "mimetype": "text/x-python",
   "name": "python",
   "nbconvert_exporter": "python",
   "pygments_lexer": "ipython3",
   "version": "3.10.11"
  }
 },
 "nbformat": 4,
 "nbformat_minor": 4
}
