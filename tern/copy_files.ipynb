{
 "cells": [
  {
   "cell_type": "markdown",
   "id": "aca7d209-edbd-471c-a513-e57a2c00c21a",
   "metadata": {},
   "source": [
    "# ADSC - TERN Coesra Interactions¶\n",
    "\n",
    "This notebook copies data from Notebook environment to TERN - CoESRA\n",
    "\n",
    "## Setup\n",
    "\n",
    "To connect to CoESRA remotely, one needs to create a User account in CoESRA (https://coesra.tern.org.au). Please make sure that your account has been provisined and is active before continuing.\n",
    "\n",
    "The second thing required is an api key for TERN Apis. An api key can be generated (https://account.tern.org.au).\n"
   ]
  },
  {
   "cell_type": "code",
   "execution_count": null,
   "id": "163666fe-f34b-40cd-9121-392f40a0e844",
   "metadata": {},
   "outputs": [],
   "source": [
    "# requires paramiko \n",
    "!pip install paramiko"
   ]
  },
  {
   "cell_type": "code",
   "execution_count": null,
   "id": "b4eb1d15-1736-4e1c-9dd1-f4d065c37952",
   "metadata": {},
   "outputs": [],
   "source": [
    "# import required libraries\n",
    "import ipywidgets\n",
    "import tern"
   ]
  },
  {
   "cell_type": "code",
   "execution_count": null,
   "id": "d6164ad0-5351-43af-a645-85f3be80911e",
   "metadata": {},
   "outputs": [],
   "source": [
    "# Enter API Key\n",
    "password = ipywidgets.Password(description=\"TERN ApiKey:\")\n",
    "display(password)"
   ]
  },
  {
   "cell_type": "code",
   "execution_count": null,
   "id": "ee119cc4-b6cc-4390-a6bc-55dabf0fd229",
   "metadata": {},
   "outputs": [],
   "source": [
    "# setup TERN API with api key\n",
    "api = tern.TERNApi(password.value)"
   ]
  },
  {
   "cell_type": "markdown",
   "id": "4d0c2f5c-36d6-4e5f-92ab-bf891be61b70",
   "metadata": {},
   "source": [
    "## Copy data \n",
    "\n",
    "Please update source and destination folder. All files and folders within source folder will be copied as is (including sub path) into destination folder. Any folder that does not exist at the destination will be created."
   ]
  },
  {
   "cell_type": "code",
   "execution_count": null,
   "id": "246bb9e1-e96c-4d07-ad39-196c0c782017",
   "metadata": {},
   "outputs": [],
   "source": [
    "# SFTP uplaod woth progress\n",
    "api.sftp(\"/mnt/project/841/task/6657b152-9aa1-448e-9047-ae9bca47b00d\", \"~/ASDC_work2/\")"
   ]
  }
 ],
 "metadata": {
  "kernelspec": {
   "display_name": "Python 3 (ipykernel)",
   "language": "python",
   "name": "python3"
  },
  "language_info": {
   "codemirror_mode": {
    "name": "ipython",
    "version": 3
   },
   "file_extension": ".py",
   "mimetype": "text/x-python",
   "name": "python",
   "nbconvert_exporter": "python",
   "pygments_lexer": "ipython3",
   "version": "3.10.8"
  }
 },
 "nbformat": 4,
 "nbformat_minor": 5
}
