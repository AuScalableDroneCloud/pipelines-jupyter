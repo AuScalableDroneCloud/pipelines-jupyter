{
 "cells": [
  {
   "cell_type": "markdown",
   "id": "357a561b-449d-415f-937d-5c50ab2ea119",
   "metadata": {},
   "source": [
    "# ADSC - TERN Coesra Interactions¶\n",
    "\n",
    "This notebook starts a virtual desktop environment in TERN - CoESRA.\n",
    "\n",
    "## Setup\n",
    "\n",
    "To connect to CoESRA remotely, one needs to create a User account in CoESRA (https://coesra.tern.org.au). Please make sure that your account has been provisined and is active before continuing.\n",
    "\n",
    "The second thing required is an api key for TERN Apis. An api key can be generated (https://account.tern.org.au).\n"
   ]
  },
  {
   "cell_type": "code",
   "execution_count": null,
   "id": "93402b6a-ee15-423e-ae12-6f858d522747",
   "metadata": {},
   "outputs": [],
   "source": [
    "# import required libraries\n",
    "import ipywidgets\n",
    "import tern"
   ]
  },
  {
   "cell_type": "code",
   "execution_count": null,
   "id": "d6f33bb7-5bc6-46f2-89fe-b24a87b40867",
   "metadata": {},
   "outputs": [],
   "source": [
    "# Enter API Key\n",
    "password = ipywidgets.Password(description=\"TERN ApiKey:\")\n",
    "display(password)"
   ]
  },
  {
   "cell_type": "code",
   "execution_count": null,
   "id": "850329f4-ecd4-471f-b2d4-8b95b3a0a3c1",
   "metadata": {},
   "outputs": [],
   "source": [
    "# setup TERN API with api key\n",
    "api = tern.TERNApi(password.value)"
   ]
  },
  {
   "cell_type": "markdown",
   "id": "41742aed-97eb-4bc9-bec6-c79b05220e7d",
   "metadata": {},
   "source": [
    "## Start Desktop\n",
    "\n",
    "Please configure your desktop with the widget below and hit the start button.\n",
    "\n",
    "Once the desktop is ready, it can be accessed by clicking the `Access Desktop` button.\n",
    "\n",
    "A running desktop can be shutdown anytime by clicking the `Stop Desktop` button."
   ]
  },
  {
   "cell_type": "code",
   "execution_count": null,
   "id": "83ecfe9c-5299-4ec4-8b9e-baca41687565",
   "metadata": {},
   "outputs": [],
   "source": [
    "display(api.desktop_widget())"
   ]
  },
  {
   "cell_type": "code",
   "execution_count": null,
   "id": "1e9d828b-0be0-488f-819b-ade3901606ec",
   "metadata": {},
   "outputs": [],
   "source": []
  }
 ],
 "metadata": {
  "kernelspec": {
   "display_name": "Python 3 (ipykernel)",
   "language": "python",
   "name": "python3"
  },
  "language_info": {
   "codemirror_mode": {
    "name": "ipython",
    "version": 3
   },
   "file_extension": ".py",
   "mimetype": "text/x-python",
   "name": "python",
   "nbconvert_exporter": "python",
   "pygments_lexer": "ipython3",
   "version": "3.10.8"
  }
 },
 "nbformat": 4,
 "nbformat_minor": 5
}
