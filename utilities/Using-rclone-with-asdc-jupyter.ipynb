{
 "cells": [
  {
   "cell_type": "markdown",
   "id": "a409d7c7-2642-4a76-ba1d-86f96a58853e",
   "metadata": {},
   "source": [
    "## Using rclone with ASDC Jupyter Labs"
   ]
  },
  {
   "cell_type": "markdown",
   "id": "02933ca8-ab3c-4756-816f-cc7b68850943",
   "metadata": {},
   "source": [
    "NOTE: To set up rclone on Jupyter lab, you will need to also have rclone available on your local machine.\n",
    "<br>\n",
    "<br>_Installing rclone on your machine_\n",
    "* Download rclone from here: https://rclone.org/downloads/\n",
    "* Unzip rclone into a folder\n",
    "* Copy the folder path\n",
    "* Launch a terminal (cmd window in winodws)\n",
    "* cd to the path to rclone\n",
    "* Now go back to Jupyter to continue the setup there:\n",
    "1. First launch a jupyter Terminal: ( _File -> New -> Terminal_ )\n",
    "2. Then in the terminal type:\n",
    "    <br>\n",
    "    > rclone config\n",
    "    <br>\n",
    "    > n (for new remote) <br>\n",
    "name> _Name-of-your-remote_ <br>\n",
    "storage> ## _(choose the number of your storage type; for this example we will use one-drive)_ <br>\n",
    "#### Configuration for OneDrive-Personal:   \n",
    "* client_ID>  _leave blank_\n",
    "* client_secret> _Leave blank_\n",
    "* Edit advanced config (y/n)> _N_\n",
    "* Use auto config? (y/n)> _N_ (since you are working on a headless machine)\n",
    "    - _Paste the command rclone provides into the terminal on your desktop that you set up previously_\n",
    "    _rclone authorize \"onedrive\"_\n",
    "* result> _{\"access_token\":\"sad;kg;alfdknjgl;kdsj...}_ (copy and paste the entire output in brackets from your terminal in to the \"result>\" field in Jupyter and hit return))\n",
    "* Vour Choice> 1 (Choose \"onedrive personal or enterprise)\n",
    "* Choose Drive to Use> 0 (This seems to always return 2 options, 0 should work fine; if not, try 1)\n",
    "* Drive path ok (y/n)? y _Rclone should provide you with the root folder path of your OneDrive_\n",
    "* y/e/d> Y (choose yes if this looks ok)\n",
    "* q> quit config\n",
    "\n",
    "_You should now be all set to test rclone_\n",
    "    \n",
    "\n",
    "#### Configuration OneDriveEnterprise:\n",
    "* client_ID> _Use client_ID provided by your IT dept_\n",
    "* client_secret> _Use client_secret provided by your IT dept_\n",
    "* Edit advanced config (y/n)> _N_\n",
    "* Use auto config? (y/n)> _N_ (since you are working on a headless machine)\n",
    "    - _Paste the command rclone provides into the terminal on your desktop that you set up previously_\n",
    "    - _Command should be look like: <br> \n",
    "    _rclone authorize \"onedrive\" -- \"client_ID\" \"client_secret\"_\n",
    "* result> _{\"access_token\":  ...}_ (copy and paste the entire output in brackets from your terminal in to the \"result>\" field in Jupyter and hit return))\n",
    "  -  _Note that enteprise onderive connections will likely need to be enabled by your IT admin_\n",
    "* Choose a number from below, or type in an existing value> _\"0\" first, but depending on how your onedrive is configured, you may need to use option 5 and search for text within the sharepoint path\n",
    "  - _Note that if your first choice doesn't work, then the whole process cancels and you have to start over again_\n",
    "* Drive path ok (y/n)? y _Rclone should provide you with the root folder path of your OneDrive_\n",
    "* y/e/d> Y (choose yes if this looks ok)\n",
    "* q> quit config\n",
    "\n"
   ]
  },
  {
   "cell_type": "markdown",
   "id": "162c9d07-0274-4b01-9cd8-8f79d1f73869",
   "metadata": {},
   "source": [
    "### Using rclone on jupyter\n",
    "* From within ASDC JupyterLabs Start by launching a jupyter terminal:  _File -> New -> Terminal_ \n",
    "* Once the terminal launches, you will be in the root file path.\n",
    "* Use standard terminal commands to see where you are and move around:\n",
    "  * _ls_ to list files.\n",
    "  * _cd _folder-name_ to switch to a new folder\n",
    "  * _cd .._ to move up a folder\n",
    "    - Note that if you go up too many folders and can't find your home folder, use _cd home/jovyan_ to get back to the root directory\n",
    "    <br><br>\n",
    "* You will generally want to do everything from your personal folder which is your email address, so always CD to that folder first.\n",
    "* Some basic commands: _(For demonstration purposes, we'll use the name \"my-onedrive\" as the name of your remote site)_\n",
    "  * Use _rclone listremotes_ to get the name of the remote site you want to connect to\n",
    "  * Send commands to rclone in the format \"_rclone _command_ _remote-site:_ where \"remote-site\" is the remote name. **Note that you always follow the remote name with a colon** if you forget you will get a \"_directory not found_\" error.\n",
    "  * NCDU is the easiest way to find the path to your remote directory:\n",
    "    - rclone ncdu my-remote:  _<- DON'T FORGET THE COLON!_\n",
    "      - Use arrow keys to navigate to the folder you want (left arrow key takes you up a directory, right/enter is down; up/down arrows keys to select a folder from the list).\n",
    "      - Once you have the directory path you want, use the mouse to copy the path from the top of the terminal, then quit ncdu using _'q'_\n",
    "  * To download everything in a remote directory once you know the path, use the following format:\n",
    "     - (First, from in the terminal window, use \"cd\" to navigate to the folder you want to download things to. Create any needed parent folders manually)\n",
    "     - _rclone copy remote-name:/path-to/your/folder \\._\n",
    "     - Example: _rclone copy my--remote-site:/General/drone-data/my-flight/ \\._   <- Note that the period \".\" tells rclone to copy things into the current local directory\n",
    "<br><br>\n",
    "* Refer to rclone documentation and basic commands to learn how to use rclone in more detail:\n",
    "  - https://rclone.org/docs/\n",
    "  - https://rclone.org/commands/\n"
   ]
  },
  {
   "cell_type": "markdown",
   "id": "ee07192d-e35a-4929-9ead-63343ee61694",
   "metadata": {},
   "source": []
  }
 ],
 "metadata": {
  "kernelspec": {
   "display_name": "Python 3 (ipykernel)",
   "language": "python",
   "name": "python3"
  },
  "language_info": {
   "codemirror_mode": {
    "name": "ipython",
    "version": 3
   },
   "file_extension": ".py",
   "mimetype": "text/x-python",
   "name": "python",
   "nbconvert_exporter": "python",
   "pygments_lexer": "ipython3",
   "version": "3.10.8"
  }
 },
 "nbformat": 4,
 "nbformat_minor": 5
}
