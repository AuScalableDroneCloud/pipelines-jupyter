{
 "cells": [
  {
   "cell_type": "markdown",
   "id": "f8810086-914f-413c-b5b8-4c6baea54635",
   "metadata": {},
   "source": [
    "First we install boto3 for later access to s3"
   ]
  },
  {
   "cell_type": "code",
   "execution_count": 1,
   "id": "34cc6d19-109e-4ea9-ad80-396cd04a8c6d",
   "metadata": {},
   "outputs": [
    {
     "name": "stdout",
     "output_type": "stream",
     "text": [
      "Collecting boto3\n",
      "  Downloading boto3-1.28.76-py3-none-any.whl.metadata (6.7 kB)\n",
      "Collecting botocore<1.32.0,>=1.31.76 (from boto3)\n",
      "  Downloading botocore-1.31.76-py3-none-any.whl.metadata (6.1 kB)\n",
      "Collecting jmespath<2.0.0,>=0.7.1 (from boto3)\n",
      "  Downloading jmespath-1.0.1-py3-none-any.whl (20 kB)\n",
      "Collecting s3transfer<0.8.0,>=0.7.0 (from boto3)\n",
      "  Downloading s3transfer-0.7.0-py3-none-any.whl.metadata (1.8 kB)\n",
      "Requirement already satisfied: python-dateutil<3.0.0,>=2.1 in /opt/conda/lib/python3.10/site-packages (from botocore<1.32.0,>=1.31.76->boto3) (2.8.2)\n",
      "Requirement already satisfied: urllib3<2.1,>=1.25.4 in /opt/conda/lib/python3.10/site-packages (from botocore<1.32.0,>=1.31.76->boto3) (1.26.13)\n",
      "Requirement already satisfied: six>=1.5 in /opt/conda/lib/python3.10/site-packages (from python-dateutil<3.0.0,>=2.1->botocore<1.32.0,>=1.31.76->boto3) (1.16.0)\n",
      "Downloading boto3-1.28.76-py3-none-any.whl (135 kB)\n",
      "\u001b[2K   \u001b[90m━━━━━━━━━━━━━━━━━━━━━━━━━━━━━━━━━━━━━━━━\u001b[0m \u001b[32m135.8/135.8 kB\u001b[0m \u001b[31m7.2 MB/s\u001b[0m eta \u001b[36m0:00:00\u001b[0m\n",
      "\u001b[?25hDownloading botocore-1.31.76-py3-none-any.whl (11.3 MB)\n",
      "\u001b[2K   \u001b[90m━━━━━━━━━━━━━━━━━━━━━━━━━━━━━━━━━━━━━━━━\u001b[0m \u001b[32m11.3/11.3 MB\u001b[0m \u001b[31m76.2 MB/s\u001b[0m eta \u001b[36m0:00:00\u001b[0m:00:01\u001b[0m0:01\u001b[0m\n",
      "\u001b[?25hDownloading s3transfer-0.7.0-py3-none-any.whl (79 kB)\n",
      "\u001b[2K   \u001b[90m━━━━━━━━━━━━━━━━━━━━━━━━━━━━━━━━━━━━━━━━\u001b[0m \u001b[32m79.8/79.8 kB\u001b[0m \u001b[31m13.0 MB/s\u001b[0m eta \u001b[36m0:00:00\u001b[0m\n",
      "\u001b[?25hInstalling collected packages: jmespath, botocore, s3transfer, boto3\n",
      "Successfully installed boto3-1.28.76 botocore-1.31.76 jmespath-1.0.1 s3transfer-0.7.0\n"
     ]
    }
   ],
   "source": [
    "!pip install boto3"
   ]
  },
  {
   "cell_type": "markdown",
   "id": "8acb4409-2c35-4bf1-b2c6-65e537280780",
   "metadata": {},
   "source": [
    "And load the secrets from secrets.env file"
   ]
  },
  {
   "cell_type": "code",
   "execution_count": 2,
   "id": "eecb339c-3f2b-4d71-b1c1-2235c68ccdc8",
   "metadata": {},
   "outputs": [],
   "source": [
    "from dotenv import dotenv_values\n",
    "\n",
    "config = dotenv_values(\"secrets.env\")"
   ]
  },
  {
   "cell_type": "markdown",
   "id": "a5846230-f618-4157-ad2d-de2e7f6413dc",
   "metadata": {},
   "source": [
    "Here we put our write token from ion, and select a name and description for the initial upload"
   ]
  },
  {
   "cell_type": "code",
   "execution_count": 3,
   "id": "98e303d3-f649-4541-8173-a9ded5c11d6d",
   "metadata": {},
   "outputs": [
    {
     "name": "stdout",
     "output_type": "stream",
     "text": [
      "{\"code\":\"Forbidden\",\"message\":\"Request exceeds quote\"}\n"
     ]
    }
   ],
   "source": [
    "import requests\n",
    "import json\n",
    "headers={'Authorization': f\"\"\"Bearer {config['ion_token']}\"\"\",\n",
    "        'Content-Type': 'application/json'}\n",
    "\n",
    "payload = json.dumps({\n",
    "  \"name\": \"test\",\n",
    "  \"type\": \"3DTILES\",\n",
    "  \"description\":\"\",\n",
    "  \"options\": {\n",
    "    \"sourceType\": \"POINT_CLOUD\"\n",
    "  }\n",
    "})\n",
    "\n",
    "url='https://api.cesium.com/v1/assets'\n",
    "response = requests.request(\"POST\", url, headers=headers, data=payload)\n",
    "\n",
    "print(response.text)"
   ]
  },
  {
   "cell_type": "markdown",
   "id": "d6005f6b-e0ba-494a-8252-270b743a6ef0",
   "metadata": {},
   "source": [
    "We then extract the upload location"
   ]
  },
  {
   "cell_type": "code",
   "execution_count": null,
   "id": "fac138ee-ca2d-4585-b7e2-28058d622bcd",
   "metadata": {},
   "outputs": [],
   "source": [
    "print(response.json()[\"uploadLocation\"])\n",
    "uploadLocation=response.json()[\"uploadLocation\"]"
   ]
  },
  {
   "cell_type": "markdown",
   "id": "a4012881-7dc4-4c24-823c-c0ce300df905",
   "metadata": {},
   "source": [
    "And prepare the s3 client"
   ]
  },
  {
   "cell_type": "code",
   "execution_count": null,
   "id": "cfd50e2e-cec2-4f40-9c34-33f655a092ef",
   "metadata": {},
   "outputs": [],
   "source": [
    "import boto3\n",
    "\n",
    "client = boto3.client(\n",
    "    's3',\n",
    "    aws_access_key_id=uploadLocation['accessKey'],\n",
    "    aws_secret_access_key=uploadLocation['secretAccessKey'],\n",
    "    aws_session_token=uploadLocation['sessionToken']\n",
    ")\n"
   ]
  },
  {
   "cell_type": "markdown",
   "id": "3b16f7ac-d26b-4778-bedd-4e05af7a44e3",
   "metadata": {},
   "source": [
    "Please provide your file's name as file_name below for upload"
   ]
  },
  {
   "cell_type": "code",
   "execution_count": null,
   "id": "56e76874-281e-4f7d-bf83-ad761ed11ff9",
   "metadata": {},
   "outputs": [],
   "source": [
    "file_name=\"NUE_20170721_M1_RGB_group1_densified_point_cloud.laz\"\n",
    "file_name=\"GegedzerickRd_test_odm_georeferenced_model.laz\""
   ]
  },
  {
   "cell_type": "markdown",
   "id": "984539b3-986c-49f1-ac59-e1d94752a721",
   "metadata": {},
   "source": [
    "Check the file size and available storage."
   ]
  },
  {
   "cell_type": "code",
   "execution_count": null,
   "id": "bc731eb0-1c26-4d8e-835e-20bb4416d0ea",
   "metadata": {},
   "outputs": [],
   "source": [
    "import os\n",
    "import requests\n",
    "\n",
    "file_size=os.path.getsize(file_name)\n",
    "print(\"file size is \" + str(file_size) + \" bytes\")\n",
    "\n",
    "me_response = requests.request(\"GET\", \"https://api.cesium.com/v1/me\", headers=headers)\n",
    "available_storage=me_response.json()['storage']['available']\n",
    "print(\"available storage is \" + str(available_storage) + \" bytes\")\n",
    "\n",
    "if available_storage>=file_size:\n",
    "    print(\"There is enough space\")\n",
    "else:\n",
    "    print(\"There is not enough space\")"
   ]
  },
  {
   "cell_type": "markdown",
   "id": "7005d2c5-a524-4024-8de5-485302627e9e",
   "metadata": {},
   "source": [
    "And start the upload process"
   ]
  },
  {
   "cell_type": "code",
   "execution_count": null,
   "id": "c8b6e973-0242-46f6-a71b-c83e54b77c7e",
   "metadata": {},
   "outputs": [],
   "source": [
    "import logging\n",
    "\n",
    "bucket=uploadLocation['bucket']\n",
    "object_name=uploadLocation['prefix']+file_name\n",
    "try:\n",
    "    upload_response = client.upload_file(file_name, bucket, object_name)\n",
    "except ClientError as e:\n",
    "    logging.error(e)"
   ]
  },
  {
   "cell_type": "markdown",
   "id": "8db77ed3-5ca4-4ab5-bc72-e15266393055",
   "metadata": {},
   "source": [
    "Or provide its asdc url"
   ]
  },
  {
   "cell_type": "code",
   "execution_count": null,
   "id": "bb648ea5-8cfd-4238-862d-8d6d956e9ce2",
   "metadata": {},
   "outputs": [],
   "source": [
    "file_url=\"https://asdc.cloud.edu.au/api/projects/780/tasks/68dc4f32-d107-4af6-96c6-c33375b65f23/download/georeferenced_model.laz\"\n",
    "# r = requests.get(url, allow_redirects=True)\n",
    "# open('file.laz', 'wb').write(r.content)\n",
    "\n",
    "import asdc\n",
    "asdc.download(file_url,\"file.laz\",overwrite=True)\n",
    "file_name=\"file.laz\"\n",
    "bucket=uploadLocation['bucket']\n",
    "object_name=uploadLocation['prefix']+file_name\n",
    "try:\n",
    "    upload_response = client.upload_file(file_name, bucket, object_name)\n",
    "except ClientError as e:\n",
    "    logging.error(e)"
   ]
  },
  {
   "cell_type": "markdown",
   "id": "5c8024ac-999f-49cb-bbff-26c9d494b366",
   "metadata": {},
   "source": [
    "Once the upload finishes we send the onComplete request to start the tiling"
   ]
  },
  {
   "cell_type": "code",
   "execution_count": null,
   "id": "095c3495-350b-4e80-a9e8-07bfeb3498b5",
   "metadata": {},
   "outputs": [],
   "source": [
    "onCompleteResponse = requests.request(\"POST\", response.json()[\"onComplete\"][\"url\"], headers=headers, data={})\n"
   ]
  },
  {
   "cell_type": "markdown",
   "id": "aea7f4ef-2829-4b62-a755-47c82aaf5ebb",
   "metadata": {},
   "source": [
    "And we track its progress"
   ]
  },
  {
   "cell_type": "code",
   "execution_count": null,
   "id": "991057ac-c9e2-4f47-8137-d74647503ec8",
   "metadata": {},
   "outputs": [],
   "source": [
    "from threading import Timer\n",
    "\n",
    "assetID=response.json()[\"assetMetadata\"][\"id\"]\n",
    "print(assetID)\n",
    "\n",
    "def waitUntilReady():\n",
    "    url='https://api.cesium.com/v1/assets/'+str(assetID)\n",
    "    assetMetadata = requests.request(\"GET\", url, headers=headers, data={})\n",
    "    # print(assetMetadata.text)\n",
    "    status=assetMetadata.json()[\"status\"]\n",
    "    # print(status)\n",
    "    \n",
    "    if status=='COMPLETE':\n",
    "        print(\"asset tiled successfully\")\n",
    "    elif status=='DATA_ERROR':\n",
    "        print('ion detected a problem with the uploaded data.')\n",
    "    elif status=='ERROR':\n",
    "        print(\"An unknown tiling error occurred\")\n",
    "    elif status=='AWAITING_FILES':\n",
    "        print(\"Awaiting file upload\")\n",
    "    else:\n",
    "        if status==\"NOT_STARTED\":\n",
    "            print(\"tiling pipeline initialising.\")\n",
    "        elif status==\"IN_PROGRESS\":\n",
    "            print(f\"\"\"asset is {assetMetadata.json()[\"percentComplete\"]}% complete\"\"\")\n",
    "            \n",
    "        t=Timer(10,waitUntilReady)\n",
    "        t.start()\n",
    "    \n",
    "\n",
    "    \n",
    "waitUntilReady()"
   ]
  },
  {
   "cell_type": "markdown",
   "id": "cadbf790-e079-46b9-ae9c-9db6a80bfde1",
   "metadata": {},
   "source": [
    "Finally, we send the export request to export the tiles to our s3 account"
   ]
  },
  {
   "cell_type": "code",
   "execution_count": null,
   "id": "889390d3-8d08-489e-99e1-4200b81f59c8",
   "metadata": {},
   "outputs": [],
   "source": [
    "assetID = 2330332\n",
    "url=f\"\"\"https://api.cesium.com/v1/assets/{assetID}/exports\"\"\"\n",
    "# assetID = 2330332\n",
    "payload=json.dumps({\n",
    "    \"type\":\"S3\",\n",
    "    \"bucket\":\"appf-anu\",\n",
    "    \"prefix\":f\"\"\"/Cesium/ion_exports/{assetID}\"\"\",\n",
    "    \"accessKeyId\":config['accessKeyId'],\n",
    "    \"secretAccessKey\":config[\"secretAccessKey\"],\n",
    "    \"sessionToken\":\"\"\n",
    "})\n",
    "exportReq = requests.request(\"POST\", url, headers=headers, data=payload)\n",
    "print(exportReq.text)"
   ]
  },
  {
   "cell_type": "markdown",
   "id": "d53516e6-b138-4746-8afa-ab3a35767842",
   "metadata": {},
   "source": [
    "We can then track the status of this export request"
   ]
  },
  {
   "cell_type": "code",
   "execution_count": null,
   "id": "d378ee46-a094-4d83-ad09-5899a4526b0a",
   "metadata": {},
   "outputs": [],
   "source": [
    "from threading import Timer #this is needed if we are skipping the Cesiuim import step and just uploading an existing asset to S3\n",
    "\n",
    "export_id=exportReq.json()[\"id\"]\n",
    "def wait_until_export_complete():\n",
    "    url='https://api.cesium.com/v1/assets/'+str(assetID)+'/exports/'+str(export_id)\n",
    "    export_status_req = requests.request(\"GET\", url, headers=headers, data={})\n",
    "    # print(export_status_req.text)\n",
    "    export_status=export_status_req.json()[\"status\"]\n",
    "    print(export_status)\n",
    "    \n",
    "    if export_status!=\"COMPLETE\":\n",
    "        t=Timer(2,wait_until_export_complete)\n",
    "        t.start()\n",
    "        \n",
    "wait_until_export_complete()"
   ]
  },
  {
   "cell_type": "markdown",
   "id": "2a5d0f6d-5633-4106-92a3-ebd0b3461df7",
   "metadata": {},
   "source": [
    "To view the output in cesium, we first make the tileset public on amazon. Please note, we need to wait for the export above to finish first"
   ]
  },
  {
   "cell_type": "code",
   "execution_count": 11,
   "id": "77996d4f-877a-413f-92f5-7ec54cc21d7c",
   "metadata": {},
   "outputs": [],
   "source": [
    "import boto3\n",
    "\n",
    "s3 = boto3.resource('s3',\n",
    "    aws_access_key_id=config['accessKeyId'],\n",
    "    aws_secret_access_key=config[\"secretAccessKey\"])\n",
    "\n",
    "bucket = s3.Bucket('appf-anu')\n",
    "\n",
    "for obj in bucket.objects.filter(Prefix=f\"\"\"Cesium/ion_exports/{assetID}\"\"\"):\n",
    "    # print(obj)\n",
    "    object_acl = s3.ObjectAcl(obj.bucket_name,obj.key)\n",
    "    object_acl.put(ACL='public-read')\n",
    "    "
   ]
  },
  {
   "cell_type": "markdown",
   "id": "66973293-9ed0-444a-8551-0fb25777c798",
   "metadata": {},
   "source": [
    "We then create the index file for the cesium interface"
   ]
  },
  {
   "cell_type": "code",
   "execution_count": 12,
   "id": "d9bf0668-cdba-457a-b3ed-0e8a41cd2036",
   "metadata": {},
   "outputs": [],
   "source": [
    "index={\n",
    "    \"assets\":[\n",
    "        {\n",
    "            \"id\": 1,\n",
    "            \"name\": \"Ion\",\n",
    "            \"status\": \"active\",\n",
    "            \"categoryID\": 1,\n",
    "            \"data\": [\n",
    "                1\n",
    "            ]\n",
    "        }\n",
    "    ],\n",
    "    \"datasets\":[\n",
    "        {\n",
    "            \"name\": assetID,\n",
    "            \"type\": \"PointCloud\",\n",
    "            \"url\": f\"\"\"https://appf-anu.s3.ap-southeast-2.amazonaws.com/Cesium/ion_exports/{assetID}/tileset.json\"\"\",\n",
    "            \"id\": 1\n",
    "          }\n",
    "    ],\n",
    "    \"categories\": [\n",
    "        {\n",
    "            \"id\": 1,\n",
    "            \"name\": \"Export\"\n",
    "        }\n",
    "    ]\n",
    "}\n",
    "\n",
    "import json\n",
    "with open(f\"\"\"{assetID}.json\"\"\", 'w') as fp:\n",
    "    json.dump(index, fp)"
   ]
  },
  {
   "cell_type": "markdown",
   "id": "2259070f-93de-4204-a0e6-5db20962d0ad",
   "metadata": {},
   "source": [
    "And upload the index file to s3"
   ]
  },
  {
   "cell_type": "code",
   "execution_count": 13,
   "id": "fdc5ecc9-49b7-41c4-a0d1-dabdb18e7e8a",
   "metadata": {},
   "outputs": [],
   "source": [
    "s3_client = boto3.client(\n",
    "    's3',\n",
    "    aws_access_key_id=config['accessKeyId'],\n",
    "    aws_secret_access_key=config[\"secretAccessKey\"]\n",
    ")\n",
    "file_name=f\"\"\"{assetID}.json\"\"\"\n",
    "bucket=\"appf-anu\"\n",
    "object_name=f\"\"\"Cesium/ion_exports/{assetID}.json\"\"\"\n",
    "try:\n",
    "    upload_response = s3_client.upload_file(file_name, bucket, object_name,ExtraArgs={'ACL':'public-read'})\n",
    "except ClientError as e:\n",
    "    logging.error(e)"
   ]
  },
  {
   "cell_type": "markdown",
   "id": "afb2c82d-29c2-4e5a-8b47-8ec5ef752723",
   "metadata": {},
   "source": [
    "The tileset can then be seen at the link below"
   ]
  },
  {
   "cell_type": "code",
   "execution_count": null,
   "id": "cd7f9b93-7933-4877-b6cf-5453158ca71c",
   "metadata": {},
   "outputs": [],
   "source": [
    "index_file_path=f\"\"\"https://appf-anu.s3.ap-southeast-2.amazonaws.com/Cesium/ion_exports/{assetID}.json\"\"\"\n",
    "print(f\"\"\"https://cesium.asdc.cloud.edu.au/cesium/Apps/ASDC/?index={index_file_path}\"\"\")"
   ]
  },
  {
   "cell_type": "markdown",
   "id": "6c572471-78c1-4607-8875-ef498ee4d8aa",
   "metadata": {},
   "source": [
    "We then delete the asset from ion"
   ]
  },
  {
   "cell_type": "code",
   "execution_count": 15,
   "id": "eeb64a52-17ab-42be-9ab8-37fc7d0777ce",
   "metadata": {},
   "outputs": [],
   "source": [
    "url='https://api.cesium.com/v1/assets/'+str(assetID)\n",
    "deleteReq = requests.request(\"DELETE\", url, headers=headers, data=payload)"
   ]
  },
  {
   "cell_type": "markdown",
   "id": "89c1ff83-f43d-48cf-bdf3-c4506ae82c7d",
   "metadata": {},
   "source": [
    "We first create a project"
   ]
  },
  {
   "cell_type": "code",
   "execution_count": null,
   "id": "6356a372-cb12-4f67-b971-f5d6124fa860",
   "metadata": {},
   "outputs": [],
   "source": [
    "import asdc\n",
    "data={\"description\": \"\",\n",
    "\"name\": f\"\"\"{assetID}\"\"\",\n",
    "\"tags\": []}\n",
    "r = asdc.call_api(\"https://asdc.cloud.edu.au/api/projects/\",data=data)"
   ]
  },
  {
   "cell_type": "code",
   "execution_count": null,
   "id": "810e5320-f6b9-4e81-85a8-9c2c531d054b",
   "metadata": {},
   "outputs": [],
   "source": [
    "print(r.text)\n",
    "print(r.json()[\"id\"])\n",
    "project_id=r.json()[\"id\"]"
   ]
  },
  {
   "cell_type": "markdown",
   "id": "edff42b3-bc45-4481-9401-4bebdda852ce",
   "metadata": {},
   "source": [
    "We then create a task in this project"
   ]
  },
  {
   "cell_type": "code",
   "execution_count": null,
   "id": "136136d0-116d-4def-b079-6b383d155e8c",
   "metadata": {},
   "outputs": [],
   "source": [
    "options = {\n",
    "    \"auto-boundary\": True,\n",
    "    \"dsm\": True\n",
    "}\n",
    "# convert into list with \"name\" / \"value\" dictionaries, suitable for ODM\n",
    "options_list = [{\"name\": k, \"value\": v} for k, v in options.items()]\n",
    "data = {\n",
    "    \"partial\": True,\n",
    "    \"name\": f\"\"\"ion export - {assetID}\"\"\",\n",
    "    \"options\": options_list\n",
    "}\n",
    "\n",
    "url = f\"/projects/{project_id}/tasks/\"\n",
    "res = asdc.call_api(url, data=data)"
   ]
  },
  {
   "cell_type": "code",
   "execution_count": null,
   "id": "024f4c29-ec06-4734-8089-73b8d5000f2f",
   "metadata": {},
   "outputs": [],
   "source": [
    "{\n",
    "\"type\": \"FeatureCollection\",\n",
    "\"name\": \"SELECT\",\n",
    "\"crs\": { \"type\": \"name\", \"properties\": { \"name\": \"urn:ogc:def:crs:OGC:1.3:CRS84\" } },\n",
    "\"features\": [\n",
    "{ \"type\": \"Feature\", \"properties\": { }, \"geometry\": { \"type\": \"Polygon\", \"coordinates\": [ [ [ 149.094708174653675, -35.278852751857457 ], [ 149.094712211572357, -35.260468935814821 ], [ 149.130447249083545, -35.260468935814821 ], [ 149.13045128600217, -35.278852751857457 ], [ 149.094708174653675, -35.278852751857457 ] ] ] } }\n",
    "]\n",
    "}\n"
   ]
  },
  {
   "cell_type": "code",
   "execution_count": null,
   "id": "d86aad3f-b10c-4e8a-911f-aba326d021af",
   "metadata": {},
   "outputs": [],
   "source": [
    "print(res.text)\n",
    "task_id=res.json()[\"id\"]\n",
    "print(task_id)"
   ]
  },
  {
   "cell_type": "markdown",
   "id": "8bd5b3eb-ad8f-44c6-b7dd-b24ede8f3b65",
   "metadata": {},
   "source": [
    "We upload the index file to the task as an asset"
   ]
  },
  {
   "cell_type": "code",
   "execution_count": null,
   "id": "443ab7b6-20a6-4ac5-aed0-7b8d5a7a59f3",
   "metadata": {},
   "outputs": [],
   "source": [
    "r = asdc.upload_asset(f\"\"\"{assetID}.json\"\"\", dest=f\"\"\"{assetID}.json\"\"\", task=task_id)\n"
   ]
  },
  {
   "cell_type": "markdown",
   "id": "94a36cad-6152-4d04-a361-77a0da354695",
   "metadata": {},
   "source": [
    "We make the task public to access the asset."
   ]
  },
  {
   "cell_type": "code",
   "execution_count": null,
   "id": "6dc5691d-c201-4581-a7b6-b8a7731dd1d1",
   "metadata": {},
   "outputs": [],
   "source": [
    "import asdc\n",
    "# await asdc.auth.connect()\n",
    "token = asdc.auth.access_token\n",
    "url = 'https://asdc.cloud.edu.au'\n",
    "assert(token)"
   ]
  },
  {
   "cell_type": "code",
   "execution_count": null,
   "id": "3009a969-7d84-4821-b587-7edb04ffbc96",
   "metadata": {},
   "outputs": [],
   "source": [
    "from odk2odm import odm_requests\n",
    "res =odm_requests.patch_task(url, token, project_id, task_id, data={\"public\":\"true\"})"
   ]
  },
  {
   "cell_type": "markdown",
   "id": "4e0af06a-0ebe-417b-9da0-92e8394dadc5",
   "metadata": {},
   "source": [
    "We can then view the dataset in cesium using the link below"
   ]
  },
  {
   "cell_type": "code",
   "execution_count": null,
   "id": "ec4033dd-f5c2-4dc7-80d4-fe7f9e6e7aef",
   "metadata": {},
   "outputs": [],
   "source": [
    "index_path=f\"\"\"https://asdc.cloud.edu.au/api/projects/{project_id}/tasks/{task_id}/assets/{assetID}.json\"\"\"\n",
    "print(f\"\"\"https://cesium.asdc.cloud.edu.au/cesium/Apps/ASDC/?index={index_path}\"\"\")"
   ]
  },
  {
   "cell_type": "code",
   "execution_count": null,
   "id": "c70b7bf0-29c9-4e8f-9ae1-e12a4c8626b6",
   "metadata": {},
   "outputs": [],
   "source": []
  }
 ],
 "metadata": {
  "kernelspec": {
   "display_name": "Python 3 (ipykernel)",
   "language": "python",
   "name": "python3"
  },
  "language_info": {
   "codemirror_mode": {
    "name": "ipython",
    "version": 3
   },
   "file_extension": ".py",
   "mimetype": "text/x-python",
   "name": "python",
   "nbconvert_exporter": "python",
   "pygments_lexer": "ipython3",
   "version": "3.10.8"
  }
 },
 "nbformat": 4,
 "nbformat_minor": 5
}
