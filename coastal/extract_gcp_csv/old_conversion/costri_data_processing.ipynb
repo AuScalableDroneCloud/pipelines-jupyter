{
 "cells": [
  {
   "cell_type": "code",
   "execution_count": 1,
   "id": "752134eb-a4eb-4cbd-b336-86c6ae22cffb",
   "metadata": {
    "tags": []
   },
   "outputs": [],
   "source": [
    "import numpy as np\n",
    "import pandas as pd"
   ]
  },
  {
   "cell_type": "code",
   "execution_count": 2,
   "id": "39258ff2-2417-4e98-8a08-50291aa2c64b",
   "metadata": {
    "tags": []
   },
   "outputs": [],
   "source": []
  },
  {
   "cell_type": "code",
   "execution_count": 3,
   "id": "268e8d60-00ae-4aba-8644-fccaf181abf4",
   "metadata": {
    "tags": []
   },
   "outputs": [
    {
     "ename": "AttributeError",
     "evalue": "'DataFrame' object has no attribute 'split'",
     "output_type": "error",
     "traceback": [
      "\u001b[1;31m---------------------------------------------------------------------------\u001b[0m",
      "\u001b[1;31mAttributeError\u001b[0m                            Traceback (most recent call last)",
      "Cell \u001b[1;32mIn[3], line 37\u001b[0m\n\u001b[0;32m     34\u001b[0m     \u001b[38;5;28;01mreturn\u001b[39;00m proj_string\n\u001b[0;32m     36\u001b[0m \u001b[38;5;66;03m# Using the modified function to extract and format the projection information\u001b[39;00m\n\u001b[1;32m---> 37\u001b[0m proj_string_modified \u001b[38;5;241m=\u001b[39m \u001b[43mextract_proj_string_modified\u001b[49m\u001b[43m(\u001b[49m\u001b[43mcsv_data\u001b[49m\u001b[43m)\u001b[49m\n\u001b[0;32m     38\u001b[0m proj_string_modified\n",
      "Cell \u001b[1;32mIn[3], line 4\u001b[0m, in \u001b[0;36mextract_proj_string_modified\u001b[1;34m(csv_data)\u001b[0m\n\u001b[0;32m      2\u001b[0m \u001b[38;5;28;01mdef\u001b[39;00m \u001b[38;5;21mextract_proj_string_modified\u001b[39m(csv_data):\n\u001b[0;32m      3\u001b[0m     \u001b[38;5;66;03m# Splitting the CSV data into lines\u001b[39;00m\n\u001b[1;32m----> 4\u001b[0m     csv_lines \u001b[38;5;241m=\u001b[39m \u001b[43mcsv_data\u001b[49m\u001b[38;5;241;43m.\u001b[39;49m\u001b[43msplit\u001b[49m(\u001b[38;5;124m\"\u001b[39m\u001b[38;5;130;01m\\n\u001b[39;00m\u001b[38;5;124m\"\u001b[39m)\n\u001b[0;32m      6\u001b[0m     \u001b[38;5;66;03m# Initial placeholders for relevant information\u001b[39;00m\n\u001b[0;32m      7\u001b[0m     proj_type \u001b[38;5;241m=\u001b[39m \u001b[38;5;124m\"\u001b[39m\u001b[38;5;124mutm\u001b[39m\u001b[38;5;124m\"\u001b[39m  \u001b[38;5;66;03m# Assuming UTM projection type\u001b[39;00m\n",
      "File \u001b[1;32mD:\\ProgramsX64\\Python\\lib\\site-packages\\pandas\\core\\generic.py:5902\u001b[0m, in \u001b[0;36mNDFrame.__getattr__\u001b[1;34m(self, name)\u001b[0m\n\u001b[0;32m   5895\u001b[0m \u001b[38;5;28;01mif\u001b[39;00m (\n\u001b[0;32m   5896\u001b[0m     name \u001b[38;5;129;01mnot\u001b[39;00m \u001b[38;5;129;01min\u001b[39;00m \u001b[38;5;28mself\u001b[39m\u001b[38;5;241m.\u001b[39m_internal_names_set\n\u001b[0;32m   5897\u001b[0m     \u001b[38;5;129;01mand\u001b[39;00m name \u001b[38;5;129;01mnot\u001b[39;00m \u001b[38;5;129;01min\u001b[39;00m \u001b[38;5;28mself\u001b[39m\u001b[38;5;241m.\u001b[39m_metadata\n\u001b[0;32m   5898\u001b[0m     \u001b[38;5;129;01mand\u001b[39;00m name \u001b[38;5;129;01mnot\u001b[39;00m \u001b[38;5;129;01min\u001b[39;00m \u001b[38;5;28mself\u001b[39m\u001b[38;5;241m.\u001b[39m_accessors\n\u001b[0;32m   5899\u001b[0m     \u001b[38;5;129;01mand\u001b[39;00m \u001b[38;5;28mself\u001b[39m\u001b[38;5;241m.\u001b[39m_info_axis\u001b[38;5;241m.\u001b[39m_can_hold_identifiers_and_holds_name(name)\n\u001b[0;32m   5900\u001b[0m ):\n\u001b[0;32m   5901\u001b[0m     \u001b[38;5;28;01mreturn\u001b[39;00m \u001b[38;5;28mself\u001b[39m[name]\n\u001b[1;32m-> 5902\u001b[0m \u001b[38;5;28;01mreturn\u001b[39;00m \u001b[38;5;28;43mobject\u001b[39;49m\u001b[38;5;241;43m.\u001b[39;49m\u001b[38;5;21;43m__getattribute__\u001b[39;49m\u001b[43m(\u001b[49m\u001b[38;5;28;43mself\u001b[39;49m\u001b[43m,\u001b[49m\u001b[43m \u001b[49m\u001b[43mname\u001b[49m\u001b[43m)\u001b[49m\n",
      "\u001b[1;31mAttributeError\u001b[0m: 'DataFrame' object has no attribute 'split'"
     ]
    }
   ],
   "source": [
    "csv_data = pd.read_csv(\"./Apollo Bay, VIC.csv\")\n",
    "# Modified Python function to extract projection information, including unit and ellipsoid, from the CSV data\n",
    "def extract_proj_string_modified(csv_data):\n",
    "    # Splitting the CSV data into lines\n",
    "    csv_lines = csv_data.split(\"\\n\")\n",
    "\n",
    "    # Initial placeholders for relevant information\n",
    "    proj_type = \"utm\"  # Assuming UTM projection type\n",
    "    zone = None\n",
    "    ellps = None  # Ellipsoid will be determined based on GDA94 presence\n",
    "    datum = None  # Datum will be set based on the ellipsoid\n",
    "    units = None  # Units will be extracted from the CSV\n",
    "\n",
    "    # Extracting information from the CSV\n",
    "    for line in csv_lines:\n",
    "        if \"Projected coordinate reference system\" in line and \"GDA94\" in line:\n",
    "            ellps = \"GRS80\"  # GDA94 uses the GRS80 ellipsoid\n",
    "            datum = \"GRS80\"  # GDA94 is based on the GRS80 datum\n",
    "            parts = line.split(',')\n",
    "            if \"MGA zone\" in parts[1]:\n",
    "                zone = parts[1].split(' ')[-1].strip()\n",
    "        elif \"Distance unit\" in line:\n",
    "            units = line.split(',')[1].strip()\n",
    "\n",
    "    # Checking if necessary information was found\n",
    "    if not zone:\n",
    "        raise ValueError(\"Zone information not found in the CSV data.\")\n",
    "    if not ellps or not datum:\n",
    "        raise ValueError(\"GDA94 or ellipsoid information not found in the CSV data.\")\n",
    "    if not units:\n",
    "        raise ValueError(\"Distance unit information not found in the CSV data.\")\n",
    "\n",
    "    # Constructing the PROJ string\n",
    "    proj_string = f\"+proj={proj_type} +zone={zone} +ellps={ellps} +datum={datum} +units={units} +no_defs\"\n",
    "    return proj_string\n",
    "\n",
    "# Using the modified function to extract and format the projection information\n",
    "proj_string_modified = extract_proj_string_modified(csv_data)\n",
    "proj_string_modified\n"
   ]
  },
  {
   "cell_type": "code",
   "execution_count": 6,
   "id": "b7d97f00-76a8-49b8-91e4-406c8a6ab228",
   "metadata": {
    "tags": []
   },
   "outputs": [
    {
     "ename": "IndexError",
     "evalue": "list index out of range",
     "output_type": "error",
     "traceback": [
      "\u001b[1;31m---------------------------------------------------------------------------\u001b[0m",
      "\u001b[1;31mIndexError\u001b[0m                                Traceback (most recent call last)",
      "Cell \u001b[1;32mIn[6], line 8\u001b[0m\n\u001b[0;32m      5\u001b[0m csv_data_string \u001b[38;5;241m=\u001b[39m csv_data\u001b[38;5;241m.\u001b[39mto_string()\n\u001b[0;32m      7\u001b[0m \u001b[38;5;66;03m# Now you can use this string with your function\u001b[39;00m\n\u001b[1;32m----> 8\u001b[0m proj_string_modified \u001b[38;5;241m=\u001b[39m \u001b[43mextract_proj_string_modified\u001b[49m\u001b[43m(\u001b[49m\u001b[43mcsv_data_string\u001b[49m\u001b[43m)\u001b[49m\n\u001b[0;32m      9\u001b[0m \u001b[38;5;28mprint\u001b[39m(proj_string_modified)\n",
      "Cell \u001b[1;32mIn[3], line 19\u001b[0m, in \u001b[0;36mextract_proj_string_modified\u001b[1;34m(csv_data)\u001b[0m\n\u001b[0;32m     17\u001b[0m     datum \u001b[38;5;241m=\u001b[39m \u001b[38;5;124m\"\u001b[39m\u001b[38;5;124mGRS80\u001b[39m\u001b[38;5;124m\"\u001b[39m  \u001b[38;5;66;03m# GDA94 is based on the GRS80 datum\u001b[39;00m\n\u001b[0;32m     18\u001b[0m     parts \u001b[38;5;241m=\u001b[39m line\u001b[38;5;241m.\u001b[39msplit(\u001b[38;5;124m'\u001b[39m\u001b[38;5;124m,\u001b[39m\u001b[38;5;124m'\u001b[39m)\n\u001b[1;32m---> 19\u001b[0m     \u001b[38;5;28;01mif\u001b[39;00m \u001b[38;5;124m\"\u001b[39m\u001b[38;5;124mMGA zone\u001b[39m\u001b[38;5;124m\"\u001b[39m \u001b[38;5;129;01min\u001b[39;00m \u001b[43mparts\u001b[49m\u001b[43m[\u001b[49m\u001b[38;5;241;43m1\u001b[39;49m\u001b[43m]\u001b[49m:\n\u001b[0;32m     20\u001b[0m         zone \u001b[38;5;241m=\u001b[39m parts[\u001b[38;5;241m1\u001b[39m]\u001b[38;5;241m.\u001b[39msplit(\u001b[38;5;124m'\u001b[39m\u001b[38;5;124m \u001b[39m\u001b[38;5;124m'\u001b[39m)[\u001b[38;5;241m-\u001b[39m\u001b[38;5;241m1\u001b[39m]\u001b[38;5;241m.\u001b[39mstrip()\n\u001b[0;32m     21\u001b[0m \u001b[38;5;28;01melif\u001b[39;00m \u001b[38;5;124m\"\u001b[39m\u001b[38;5;124mDistance unit\u001b[39m\u001b[38;5;124m\"\u001b[39m \u001b[38;5;129;01min\u001b[39;00m line:\n",
      "\u001b[1;31mIndexError\u001b[0m: list index out of range"
     ]
    }
   ],
   "source": [
    "# Read the CSV file into a DataFrame\n",
    "csv_data = pd.read_csv(\"./Apollo Bay, VIC.csv\")\n",
    "\n",
    "# Convert the entire DataFrame to a string\n",
    "csv_data_string = csv_data.to_string()\n",
    "\n",
    "# Now you can use this string with your function\n",
    "proj_string_modified = extract_proj_string_modified(csv_data_string)\n",
    "print(proj_string_modified)"
   ]
  },
  {
   "cell_type": "code",
   "execution_count": 9,
   "id": "6fa2785f-cb08-48d2-b59d-3eebd8f7740c",
   "metadata": {
    "tags": []
   },
   "outputs": [],
   "source": [
    "# Re-running the modified Python function to extract projection information, including unit and ellipsoid, from the CSV data\n",
    "def extract_proj_string_modified(csv_data):\n",
    "    # Splitting the CSV data into lines\n",
    "    csv_lines = csv_data.split(\"\\n\")\n",
    "\n",
    "    # Initial placeholders for relevant information\n",
    "    proj_type = \"utm\"  # Assuming UTM projection type\n",
    "    zone = None\n",
    "    ellps = None  # Ellipsoid will be determined based on GDA94 presence\n",
    "    datum = None  # Datum will be set based on the ellipsoid\n",
    "    units = None  # Units will be extracted from the CSV\n",
    "\n",
    "    # Extracting information from the CSV\n",
    "    for line in csv_lines:\n",
    "        if \"Projected coordinate reference system\" in line and \"GDA94\" in line:\n",
    "            ellps = \"GRS80\"  # GDA94 uses the GRS80 ellipsoid\n",
    "            datum = \"GRS80\"  # GDA94 is based on the GRS80 datum\n",
    "            parts = line.split(',')\n",
    "            if \"MGA zone\" in parts[1]:\n",
    "                zone = parts[1].split(' ')[-1].strip()\n",
    "        elif \"Distance unit\" in line:\n",
    "            units = line.split(',')[1].strip()\n",
    "\n",
    "    # Checking if necessary information was found\n",
    "    if not zone:\n",
    "        raise ValueError(\"Zone information not found in the CSV data.\")\n",
    "    if not ellps or not datum:\n",
    "        raise ValueError(\"GDA94 or ellipsoid information not found in the CSV data.\")\n",
    "    if not units:\n",
    "        raise ValueError(\"Distance unit information not found in the CSV data.\")\n",
    "\n",
    "    # Constructing the PROJ string\n",
    "    proj_string = f\"+proj={proj_type} +zone={zone} +ellps={ellps} +datum={datum} +units={units} +no_defs\"\n",
    "    return proj_string\n",
    "\n",
    "# Using the modified function to extract and format the projection information\n",
    "# proj_string_modified = extract_proj_string_modified(csv_data)\n",
    "# proj_string_modified\n"
   ]
  },
  {
   "cell_type": "code",
   "execution_count": 11,
   "id": "2bcd702c-78de-4e05-bc9f-f48b9c9169f4",
   "metadata": {
    "tags": []
   },
   "outputs": [
    {
     "ename": "IndexError",
     "evalue": "list index out of range",
     "output_type": "error",
     "traceback": [
      "\u001b[1;31m---------------------------------------------------------------------------\u001b[0m",
      "\u001b[1;31mIndexError\u001b[0m                                Traceback (most recent call last)",
      "Cell \u001b[1;32mIn[11], line 42\u001b[0m\n\u001b[0;32m     39\u001b[0m csv_data_string \u001b[38;5;241m=\u001b[39m csv_data\u001b[38;5;241m.\u001b[39mto_string()\n\u001b[0;32m     41\u001b[0m \u001b[38;5;66;03m# Now you can use this string with your function\u001b[39;00m\n\u001b[1;32m---> 42\u001b[0m proj_string_modified \u001b[38;5;241m=\u001b[39m \u001b[43mextract_proj_string_modified\u001b[49m\u001b[43m(\u001b[49m\u001b[43mcsv_data_string\u001b[49m\u001b[43m)\u001b[49m\n\u001b[0;32m     43\u001b[0m \u001b[38;5;28mprint\u001b[39m(proj_string_modified)\n",
      "Cell \u001b[1;32mIn[11], line 19\u001b[0m, in \u001b[0;36mextract_proj_string_modified\u001b[1;34m(csv_data)\u001b[0m\n\u001b[0;32m     17\u001b[0m     datum \u001b[38;5;241m=\u001b[39m \u001b[38;5;124m\"\u001b[39m\u001b[38;5;124mGRS80\u001b[39m\u001b[38;5;124m\"\u001b[39m  \u001b[38;5;66;03m# GDA94 is based on the GRS80 datum\u001b[39;00m\n\u001b[0;32m     18\u001b[0m     parts \u001b[38;5;241m=\u001b[39m line\u001b[38;5;241m.\u001b[39msplit(\u001b[38;5;124m'\u001b[39m\u001b[38;5;124m,\u001b[39m\u001b[38;5;124m'\u001b[39m)\n\u001b[1;32m---> 19\u001b[0m     \u001b[38;5;28;01mif\u001b[39;00m \u001b[38;5;124m\"\u001b[39m\u001b[38;5;124mMGA zone\u001b[39m\u001b[38;5;124m\"\u001b[39m \u001b[38;5;129;01min\u001b[39;00m \u001b[43mparts\u001b[49m\u001b[43m[\u001b[49m\u001b[38;5;241;43m1\u001b[39;49m\u001b[43m]\u001b[49m:\n\u001b[0;32m     20\u001b[0m         zone \u001b[38;5;241m=\u001b[39m parts[\u001b[38;5;241m1\u001b[39m]\u001b[38;5;241m.\u001b[39msplit(\u001b[38;5;124m'\u001b[39m\u001b[38;5;124m \u001b[39m\u001b[38;5;124m'\u001b[39m)[\u001b[38;5;241m-\u001b[39m\u001b[38;5;241m1\u001b[39m]\u001b[38;5;241m.\u001b[39mstrip()\n\u001b[0;32m     21\u001b[0m \u001b[38;5;28;01melif\u001b[39;00m \u001b[38;5;124m\"\u001b[39m\u001b[38;5;124mDistance unit\u001b[39m\u001b[38;5;124m\"\u001b[39m \u001b[38;5;129;01min\u001b[39;00m line:\n",
      "\u001b[1;31mIndexError\u001b[0m: list index out of range"
     ]
    }
   ],
   "source": [
    "# Re-running the modified Python function to extract projection information, including unit and ellipsoid, from the CSV data\n",
    "def extract_proj_string_modified(csv_data):\n",
    "    # Splitting the CSV data into lines\n",
    "    csv_lines = csv_data.split(\"\\n\")\n",
    "\n",
    "    # Initial placeholders for relevant information\n",
    "    proj_type = \"utm\"  # Assuming UTM projection type\n",
    "    zone = None\n",
    "    ellps = None  # Ellipsoid will be determined based on GDA94 presence\n",
    "    datum = None  # Datum will be set based on the ellipsoid\n",
    "    units = None  # Units will be extracted from the CSV\n",
    "\n",
    "    # Extracting information from the CSV\n",
    "    for line in csv_lines:\n",
    "        if \"Projected coordinate reference system\" in line and \"GDA94\" in line:\n",
    "            ellps = \"GRS80\"  # GDA94 uses the GRS80 ellipsoid\n",
    "            datum = \"GRS80\"  # GDA94 is based on the GRS80 datum\n",
    "            parts = line.split(',')\n",
    "            if \"MGA zone\" in parts[1]:\n",
    "                zone = parts[1].split(' ')[-1].strip()\n",
    "        elif \"Distance unit\" in line:\n",
    "            units = line.split(',')[1].strip()\n",
    "\n",
    "    # Checking if necessary information was found\n",
    "    if not zone:\n",
    "        raise ValueError(\"Zone information not found in the CSV data.\")\n",
    "    if not ellps or not datum:\n",
    "        raise ValueError(\"GDA94 or ellipsoid information not found in the CSV data.\")\n",
    "    if not units:\n",
    "        raise ValueError(\"Distance unit information not found in the CSV data.\")\n",
    "\n",
    "    # Constructing the PROJ string\n",
    "    proj_string = f\"+proj={proj_type} +zone={zone} +ellps={ellps} +datum={datum} +units={units} +no_defs\"\n",
    "    return proj_string\n",
    "# Read the CSV file into a DataFrame\n",
    "csv_data = pd.read_csv(\"./Apollo Bay, VIC.csv\")\n",
    "\n",
    "# Convert the entire DataFrame to a string\n",
    "csv_data_string = csv_data.to_string()\n",
    "\n",
    "# Now you can use this string with your function\n",
    "proj_string_modified = extract_proj_string_modified(csv_data_string)\n",
    "print(proj_string_modified)"
   ]
  },
  {
   "cell_type": "code",
   "execution_count": 15,
   "id": "3503e0f8-e1e3-47ac-8307-307353cda3e9",
   "metadata": {
    "tags": []
   },
   "outputs": [],
   "source": [
    "def extract_proj_string_modified(csv_data):\n",
    "    # Splitting the CSV data into lines\n",
    "    csv_lines = csv_data.split(\"\\n\")\n",
    "\n",
    "    # Initial placeholders for relevant information\n",
    "    proj_type = \"utm\"  # Assuming UTM projection type\n",
    "    zone = None\n",
    "    ellps = None  # Ellipsoid will be determined based on GDA94 presence\n",
    "    datum = None  # Datum will be set based on the ellipsoid\n",
    "    units = None  # Units will be extracted from the CSV\n",
    "\n",
    "    # Extracting information from the CSV\n",
    "    for line in csv_lines:\n",
    "        parts = line.split(',')\n",
    "        if \"Projected coordinate reference system\" in line and \"GDA94\" in line and len(parts) > 1:\n",
    "            ellps = \"GRS80\"  # GDA94 uses the GRS80 ellipsoid\n",
    "            datum = \"GRS80\"  # GDA94 is based on the GRS80 datum\n",
    "            if \"MGA zone\" in parts[1]:\n",
    "                zone = parts[1].split(' ')[-1].strip()\n",
    "        elif \"Distance unit\" in line and len(parts) > 1:\n",
    "            units = parts[1].strip()\n",
    "\n",
    "    # Checking if necessary information was found\n",
    "    if not zone:\n",
    "        raise ValueError(\"Zone information not found in the CSV data.\")\n",
    "    if not ellps or not datum:\n",
    "        raise ValueError(\"GDA94 or ellipsoid information not found in the CSV data.\")\n",
    "    if not units:\n",
    "        raise ValueError(\"Distance unit information not found in the CSV data.\")\n",
    "\n",
    "    # Constructing the PROJ string\n",
    "    proj_string = f\"+proj={proj_type} +zone={zone} +ellps={ellps} +datum={datum} +units={units} +no_defs\"\n",
    "    return proj_string"
   ]
  },
  {
   "cell_type": "code",
   "execution_count": 22,
   "id": "a988c7ba-c98e-4e3b-8be9-c7d78123cd18",
   "metadata": {
    "tags": []
   },
   "outputs": [
    {
     "name": "stdout",
     "output_type": "stream",
     "text": [
      "+proj=utm +zone=54 +ellps=GRS80 +datum=GRS80 +units=metres +no_defs\n"
     ]
    }
   ],
   "source": [
    "# Read the CSV file into a DataFrame\n",
    "csv_data = pd.read_csv(\"./Apollo Bay, VIC.csv\")\n",
    "\n",
    "# Directly access the rows that contain the required projection information\n",
    "# Assuming this information is in the first 15 rows\n",
    "required_rows = csv_data.iloc[:16].fillna('')\n",
    "\n",
    "# Convert only these specific rows to a string\n",
    "csv_data_string = \"\\n\".join(required_rows.apply(lambda x: ','.join(x.astype(str)), axis=1))\n",
    "\n",
    "# Now you can use this string with your function\n",
    "proj_string_modified = extract_proj_string_modified(csv_data_string)\n",
    "print(proj_string_modified)"
   ]
  },
  {
   "cell_type": "code",
   "execution_count": 23,
   "id": "76fcb8b3-bffd-4e2a-8537-85d837666c22",
   "metadata": {
    "tags": []
   },
   "outputs": [
    {
     "data": {
      "text/plain": [
       "'+proj=utm +zone=54 +ellps=GRS80 +datum=GRS80 +units=metres +no_defs'"
      ]
     },
     "execution_count": 23,
     "metadata": {},
     "output_type": "execute_result"
    }
   ],
   "source": [
    "proj_string_modified"
   ]
  },
  {
   "cell_type": "code",
   "execution_count": 25,
   "id": "a72191e9-841f-4c48-a8d2-0bf58fe4008a",
   "metadata": {
    "tags": []
   },
   "outputs": [
    {
     "name": "stdout",
     "output_type": "stream",
     "text": [
      "GCP list file 'gcp_list.txt' has been created.\n"
     ]
    }
   ],
   "source": [
    "# The projection string you provided\n",
    "proj_string_modified = '+proj=utm +zone=54 +ellps=GRS80 +datum=GRS80 +units=metres +no_defs'\n",
    "\n",
    "# Name of the CSV file containing the GCP data\n",
    "csv_filename = 'PPK_image_tags.csv'\n",
    "\n",
    "# Name of the output GCP list file\n",
    "gcp_list_filename = 'gcp_list.txt'\n",
    "\n",
    "# Read the CSV file into a DataFrame\n",
    "df = pd.read_csv(csv_filename)\n",
    "\n",
    "# Open the GCP list file for writing\n",
    "with open(gcp_list_filename, 'w') as gcpfile:\n",
    "    # Write the projection string as the first line\n",
    "    gcpfile.write(proj_string_modified + '\\n')\n",
    "\n",
    "    # Iterate over the DataFrame rows\n",
    "    for index, row in df.iterrows():\n",
    "        # Write the formatted GCP line\n",
    "        gcpfile.write(f\"{row['Easting (m)']} {row['Northing (m)']} {row['Orthometric height (m)']} NaN NaN {row['File name']}\\n\")\n",
    "\n",
    "# Notify that the GCP list file has been created\n",
    "print(f\"GCP list file '{gcp_list_filename}' has been created.\")\n"
   ]
  },
  {
   "cell_type": "code",
   "execution_count": null,
   "id": "8067436d-3d1e-40bc-8971-f510496a2b3a",
   "metadata": {},
   "outputs": [],
   "source": []
  }
 ],
 "metadata": {
  "kernelspec": {
   "display_name": "Python 3 (ipykernel)",
   "language": "python",
   "name": "python3"
  },
  "language_info": {
   "codemirror_mode": {
    "name": "ipython",
    "version": 3
   },
   "file_extension": ".py",
   "mimetype": "text/x-python",
   "name": "python",
   "nbconvert_exporter": "python",
   "pygments_lexer": "ipython3",
   "version": "3.10.10"
  }
 },
 "nbformat": 4,
 "nbformat_minor": 5
}
