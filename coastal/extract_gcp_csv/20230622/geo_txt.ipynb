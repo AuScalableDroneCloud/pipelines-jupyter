{
 "cells": [
  {
   "cell_type": "code",
   "execution_count": 18,
   "id": "db9c7dd5-41a8-44af-9f85-bb38725ce3e4",
   "metadata": {
    "tags": []
   },
   "outputs": [],
   "source": [
    "# Writing the provided CSV content to a file named \"Apollo Bay, VIC.csv\"\n",
    "file_path = './20230330/Apollo Bay, VIC.csv'\n",
    "epsg_code=\"\"\n",
    "# Now, I'll read from the file and look for the line containing \"Geographic EPSG code\"\n",
    "with open(file_path, 'r', encoding='utf-8') as file:\n",
    "    for line in file:\n",
    "        if \"Geographic EPSG code\" in line:\n",
    "            # Split the line by comma and extract the EPSG code\n",
    "            epsg_code = line.split(',')[1].strip()\n",
    "            epsg_code = f\"EPSG:{epsg_code}\"\n",
    "            print(epsg_code)\n",
    "            break"
   ]
  },
  {
   "cell_type": "code",
   "execution_count": 19,
   "id": "ea7c1d3b-c69e-40ac-bd4c-c7dbec5bd63d",
   "metadata": {
    "tags": []
   },
   "outputs": [],
   "source": [
    "csv_file_path_3 = './20230330/Apollo Bay, VIC (3).csv'"
   ]
  },
  {
   "cell_type": "code",
   "execution_count": 20,
   "id": "22f6e3a1-6b20-4486-9500-df82661003d4",
   "metadata": {
    "tags": []
   },
   "outputs": [
    {
     "data": {
      "text/plain": [
       "'./20230330/geo.txt'"
      ]
     },
     "execution_count": 20,
     "metadata": {},
     "output_type": "execute_result"
    }
   ],
   "source": [
    "if epsg_code == \"\":\n",
    "    epsg_code = \"EPSG:7843\"\n",
    "geo_file_path='./20230330/geo.txt'\n",
    "with open(csv_file_path_3, 'r') as csv_file, open(geo_file_path, 'w') as geo_file:\n",
    "    # Write the EPSG code first\n",
    "    geo_file.write(epsg_code+\"\\n\")\n",
    "    \n",
    "    # Skip the header row of the CSV\n",
    "    next(csv_file)\n",
    "    \n",
    "    # Loop through each row in the CSV\n",
    "    for line in csv_file:\n",
    "        # Split the line by comma\n",
    "        columns = line.strip().split(',')\n",
    "        # Extract the required information\n",
    "        file_name = columns[1]\n",
    "        latitude = columns[2]\n",
    "        longitude = columns[3]\n",
    "        height = columns[4]\n",
    "        # Write to geo.txt in the desired format\n",
    "        geo_file.write(f\"{file_name} {longitude} {latitude} {height}\\n\")\n",
    "\n",
    "geo_file_path"
   ]
  },
  {
   "cell_type": "code",
   "execution_count": null,
   "id": "63a3da2e-cabc-45b1-8f9e-412c4600644e",
   "metadata": {},
   "outputs": [],
   "source": []
  }
 ],
 "metadata": {
  "kernelspec": {
   "display_name": "Python 3 (ipykernel)",
   "language": "python",
   "name": "python3"
  },
  "language_info": {
   "codemirror_mode": {
    "name": "ipython",
    "version": 3
   },
   "file_extension": ".py",
   "mimetype": "text/x-python",
   "name": "python",
   "nbconvert_exporter": "python",
   "pygments_lexer": "ipython3",
   "version": "3.10.10"
  }
 },
 "nbformat": 4,
 "nbformat_minor": 5
}
